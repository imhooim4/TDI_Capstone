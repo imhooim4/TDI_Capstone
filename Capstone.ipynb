{
 "cells": [
  {
   "cell_type": "code",
   "execution_count": 19,
   "id": "30b18333",
   "metadata": {},
   "outputs": [],
   "source": [
    "import seaborn as sns\n",
    "sns.set()"
   ]
  },
  {
   "cell_type": "code",
   "execution_count": 20,
   "id": "aec095a9",
   "metadata": {},
   "outputs": [
    {
     "data": {
      "text/html": [
       "<div>\n",
       "<style scoped>\n",
       "    .dataframe tbody tr th:only-of-type {\n",
       "        vertical-align: middle;\n",
       "    }\n",
       "\n",
       "    .dataframe tbody tr th {\n",
       "        vertical-align: top;\n",
       "    }\n",
       "\n",
       "    .dataframe thead th {\n",
       "        text-align: right;\n",
       "    }\n",
       "</style>\n",
       "<table border=\"1\" class=\"dataframe\">\n",
       "  <thead>\n",
       "    <tr style=\"text-align: right;\">\n",
       "      <th></th>\n",
       "      <th>conm</th>\n",
       "      <th>rect</th>\n",
       "      <th>revt</th>\n",
       "      <th>GVKEY</th>\n",
       "      <th>YEAR</th>\n",
       "      <th>recd</th>\n",
       "      <th>avg_vwretd</th>\n",
       "      <th>log_revt</th>\n",
       "      <th>log_rect</th>\n",
       "      <th>log_recd</th>\n",
       "      <th>log_avg_vwretd</th>\n",
       "    </tr>\n",
       "  </thead>\n",
       "  <tbody>\n",
       "    <tr>\n",
       "      <th>0</th>\n",
       "      <td>ALBERTO-CULVER CO</td>\n",
       "      <td>154.207</td>\n",
       "      <td>2247.163</td>\n",
       "      <td>1239</td>\n",
       "      <td>2000</td>\n",
       "      <td>10.135</td>\n",
       "      <td>0.000000</td>\n",
       "      <td>7.717869</td>\n",
       "      <td>5.044760</td>\n",
       "      <td>2.410093</td>\n",
       "      <td>0.000000</td>\n",
       "    </tr>\n",
       "    <tr>\n",
       "      <th>1</th>\n",
       "      <td>ALBERTO-CULVER CO</td>\n",
       "      <td>169.657</td>\n",
       "      <td>2494.180</td>\n",
       "      <td>1239</td>\n",
       "      <td>2001</td>\n",
       "      <td>11.387</td>\n",
       "      <td>0.000000</td>\n",
       "      <td>7.822116</td>\n",
       "      <td>5.139656</td>\n",
       "      <td>2.516648</td>\n",
       "      <td>0.000000</td>\n",
       "    </tr>\n",
       "    <tr>\n",
       "      <th>2</th>\n",
       "      <td>ALBERTO-CULVER CO</td>\n",
       "      <td>209.010</td>\n",
       "      <td>2650.976</td>\n",
       "      <td>1239</td>\n",
       "      <td>2002</td>\n",
       "      <td>17.550</td>\n",
       "      <td>0.000000</td>\n",
       "      <td>7.883060</td>\n",
       "      <td>5.347155</td>\n",
       "      <td>2.920470</td>\n",
       "      <td>0.000000</td>\n",
       "    </tr>\n",
       "    <tr>\n",
       "      <th>3</th>\n",
       "      <td>ALBERTO-CULVER CO</td>\n",
       "      <td>226.054</td>\n",
       "      <td>2891.417</td>\n",
       "      <td>1239</td>\n",
       "      <td>2003</td>\n",
       "      <td>19.111</td>\n",
       "      <td>2.462588</td>\n",
       "      <td>7.969848</td>\n",
       "      <td>5.425188</td>\n",
       "      <td>3.001267</td>\n",
       "      <td>1.242016</td>\n",
       "    </tr>\n",
       "    <tr>\n",
       "      <th>4</th>\n",
       "      <td>ALBERTO-CULVER CO</td>\n",
       "      <td>250.008</td>\n",
       "      <td>3257.996</td>\n",
       "      <td>1239</td>\n",
       "      <td>2004</td>\n",
       "      <td>12.860</td>\n",
       "      <td>1.050260</td>\n",
       "      <td>8.089174</td>\n",
       "      <td>5.525485</td>\n",
       "      <td>2.629007</td>\n",
       "      <td>0.717967</td>\n",
       "    </tr>\n",
       "    <tr>\n",
       "      <th>...</th>\n",
       "      <td>...</td>\n",
       "      <td>...</td>\n",
       "      <td>...</td>\n",
       "      <td>...</td>\n",
       "      <td>...</td>\n",
       "      <td>...</td>\n",
       "      <td>...</td>\n",
       "      <td>...</td>\n",
       "      <td>...</td>\n",
       "      <td>...</td>\n",
       "      <td>...</td>\n",
       "    </tr>\n",
       "    <tr>\n",
       "      <th>7650</th>\n",
       "      <td>JUST EAT TAKEAWAY.COM N.V.</td>\n",
       "      <td>58.000</td>\n",
       "      <td>467.000</td>\n",
       "      <td>322576</td>\n",
       "      <td>2019</td>\n",
       "      <td>2.000</td>\n",
       "      <td>2.231376</td>\n",
       "      <td>6.148468</td>\n",
       "      <td>4.077537</td>\n",
       "      <td>1.098612</td>\n",
       "      <td>1.172908</td>\n",
       "    </tr>\n",
       "    <tr>\n",
       "      <th>7651</th>\n",
       "      <td>JUST EAT TAKEAWAY.COM N.V.</td>\n",
       "      <td>215.000</td>\n",
       "      <td>2461.000</td>\n",
       "      <td>322576</td>\n",
       "      <td>2020</td>\n",
       "      <td>7.000</td>\n",
       "      <td>1.873544</td>\n",
       "      <td>7.808729</td>\n",
       "      <td>5.375278</td>\n",
       "      <td>2.079442</td>\n",
       "      <td>1.055546</td>\n",
       "    </tr>\n",
       "    <tr>\n",
       "      <th>7652</th>\n",
       "      <td>CONTEXTLOGIC INC</td>\n",
       "      <td>93.000</td>\n",
       "      <td>1728.000</td>\n",
       "      <td>345980</td>\n",
       "      <td>2018</td>\n",
       "      <td>NaN</td>\n",
       "      <td>0.000000</td>\n",
       "      <td>7.455298</td>\n",
       "      <td>4.543295</td>\n",
       "      <td>NaN</td>\n",
       "      <td>0.000000</td>\n",
       "    </tr>\n",
       "    <tr>\n",
       "      <th>7653</th>\n",
       "      <td>CONTEXTLOGIC INC</td>\n",
       "      <td>95.000</td>\n",
       "      <td>1901.000</td>\n",
       "      <td>345980</td>\n",
       "      <td>2019</td>\n",
       "      <td>NaN</td>\n",
       "      <td>2.231376</td>\n",
       "      <td>7.550661</td>\n",
       "      <td>4.564348</td>\n",
       "      <td>NaN</td>\n",
       "      <td>1.172908</td>\n",
       "    </tr>\n",
       "    <tr>\n",
       "      <th>7654</th>\n",
       "      <td>CONTEXTLOGIC INC</td>\n",
       "      <td>83.000</td>\n",
       "      <td>2541.000</td>\n",
       "      <td>345980</td>\n",
       "      <td>2020</td>\n",
       "      <td>NaN</td>\n",
       "      <td>1.873544</td>\n",
       "      <td>7.840706</td>\n",
       "      <td>4.430817</td>\n",
       "      <td>NaN</td>\n",
       "      <td>1.055546</td>\n",
       "    </tr>\n",
       "  </tbody>\n",
       "</table>\n",
       "<p>7655 rows × 11 columns</p>\n",
       "</div>"
      ],
      "text/plain": [
       "                            conm     rect      revt   GVKEY  YEAR    recd  \\\n",
       "0              ALBERTO-CULVER CO  154.207  2247.163    1239  2000  10.135   \n",
       "1              ALBERTO-CULVER CO  169.657  2494.180    1239  2001  11.387   \n",
       "2              ALBERTO-CULVER CO  209.010  2650.976    1239  2002  17.550   \n",
       "3              ALBERTO-CULVER CO  226.054  2891.417    1239  2003  19.111   \n",
       "4              ALBERTO-CULVER CO  250.008  3257.996    1239  2004  12.860   \n",
       "...                          ...      ...       ...     ...   ...     ...   \n",
       "7650  JUST EAT TAKEAWAY.COM N.V.   58.000   467.000  322576  2019   2.000   \n",
       "7651  JUST EAT TAKEAWAY.COM N.V.  215.000  2461.000  322576  2020   7.000   \n",
       "7652            CONTEXTLOGIC INC   93.000  1728.000  345980  2018     NaN   \n",
       "7653            CONTEXTLOGIC INC   95.000  1901.000  345980  2019     NaN   \n",
       "7654            CONTEXTLOGIC INC   83.000  2541.000  345980  2020     NaN   \n",
       "\n",
       "      avg_vwretd  log_revt  log_rect  log_recd  log_avg_vwretd  \n",
       "0       0.000000  7.717869  5.044760  2.410093        0.000000  \n",
       "1       0.000000  7.822116  5.139656  2.516648        0.000000  \n",
       "2       0.000000  7.883060  5.347155  2.920470        0.000000  \n",
       "3       2.462588  7.969848  5.425188  3.001267        1.242016  \n",
       "4       1.050260  8.089174  5.525485  2.629007        0.717967  \n",
       "...          ...       ...       ...       ...             ...  \n",
       "7650    2.231376  6.148468  4.077537  1.098612        1.172908  \n",
       "7651    1.873544  7.808729  5.375278  2.079442        1.055546  \n",
       "7652    0.000000  7.455298  4.543295       NaN        0.000000  \n",
       "7653    2.231376  7.550661  4.564348       NaN        1.172908  \n",
       "7654    1.873544  7.840706  4.430817       NaN        1.055546  \n",
       "\n",
       "[7655 rows x 11 columns]"
      ]
     },
     "execution_count": 20,
     "metadata": {},
     "output_type": "execute_result"
    }
   ],
   "source": [
    "import pandas as pd\n",
    "df = pd.read_csv(\"capstone.csv\")\n",
    "df"
   ]
  },
  {
   "cell_type": "code",
   "execution_count": 15,
   "id": "8159d544",
   "metadata": {},
   "outputs": [],
   "source": [
    "#recd: Receivables - Estimated Doubtful\n",
    "\n",
    "# Three featuress to estimate \n",
    "\n",
    "# 1. rect: Total Receivables\n",
    "# 2. revt: Total Revenue\n",
    "# 3. avg_vwretd: CRSP Value-weighted return index from NYSE/NASDAQ. This is monthly data, so I averaged them based on year. "
   ]
  },
  {
   "cell_type": "code",
   "execution_count": 21,
   "id": "b662b3a0",
   "metadata": {
    "scrolled": true
   },
   "outputs": [
    {
     "data": {
      "text/html": [
       "<div>\n",
       "<style scoped>\n",
       "    .dataframe tbody tr th:only-of-type {\n",
       "        vertical-align: middle;\n",
       "    }\n",
       "\n",
       "    .dataframe tbody tr th {\n",
       "        vertical-align: top;\n",
       "    }\n",
       "\n",
       "    .dataframe thead th {\n",
       "        text-align: right;\n",
       "    }\n",
       "</style>\n",
       "<table border=\"1\" class=\"dataframe\">\n",
       "  <thead>\n",
       "    <tr style=\"text-align: right;\">\n",
       "      <th></th>\n",
       "      <th>log_rect</th>\n",
       "      <th>log_revt</th>\n",
       "      <th>log_recd</th>\n",
       "      <th>log_avg_vwretd</th>\n",
       "    </tr>\n",
       "  </thead>\n",
       "  <tbody>\n",
       "    <tr>\n",
       "      <th>count</th>\n",
       "      <td>7655.000000</td>\n",
       "      <td>7655.000000</td>\n",
       "      <td>5002.000000</td>\n",
       "      <td>7655.000000</td>\n",
       "    </tr>\n",
       "    <tr>\n",
       "      <th>mean</th>\n",
       "      <td>3.001992</td>\n",
       "      <td>6.599307</td>\n",
       "      <td>0.966772</td>\n",
       "      <td>0.581070</td>\n",
       "    </tr>\n",
       "    <tr>\n",
       "      <th>std</th>\n",
       "      <td>2.187063</td>\n",
       "      <td>2.295423</td>\n",
       "      <td>1.274762</td>\n",
       "      <td>0.469967</td>\n",
       "    </tr>\n",
       "    <tr>\n",
       "      <th>min</th>\n",
       "      <td>0.000000</td>\n",
       "      <td>0.000000</td>\n",
       "      <td>0.000000</td>\n",
       "      <td>0.000000</td>\n",
       "    </tr>\n",
       "    <tr>\n",
       "      <th>25%</th>\n",
       "      <td>1.225832</td>\n",
       "      <td>5.359967</td>\n",
       "      <td>0.024693</td>\n",
       "      <td>0.000000</td>\n",
       "    </tr>\n",
       "    <tr>\n",
       "      <th>50%</th>\n",
       "      <td>2.725759</td>\n",
       "      <td>6.681035</td>\n",
       "      <td>0.412441</td>\n",
       "      <td>0.715591</td>\n",
       "    </tr>\n",
       "    <tr>\n",
       "      <th>75%</th>\n",
       "      <td>4.520244</td>\n",
       "      <td>8.081367</td>\n",
       "      <td>1.442379</td>\n",
       "      <td>0.948305</td>\n",
       "    </tr>\n",
       "    <tr>\n",
       "      <th>max</th>\n",
       "      <td>10.361640</td>\n",
       "      <td>13.258213</td>\n",
       "      <td>7.515889</td>\n",
       "      <td>1.251595</td>\n",
       "    </tr>\n",
       "  </tbody>\n",
       "</table>\n",
       "</div>"
      ],
      "text/plain": [
       "          log_rect     log_revt     log_recd  log_avg_vwretd\n",
       "count  7655.000000  7655.000000  5002.000000     7655.000000\n",
       "mean      3.001992     6.599307     0.966772        0.581070\n",
       "std       2.187063     2.295423     1.274762        0.469967\n",
       "min       0.000000     0.000000     0.000000        0.000000\n",
       "25%       1.225832     5.359967     0.024693        0.000000\n",
       "50%       2.725759     6.681035     0.412441        0.715591\n",
       "75%       4.520244     8.081367     1.442379        0.948305\n",
       "max      10.361640    13.258213     7.515889        1.251595"
      ]
     },
     "execution_count": 21,
     "metadata": {},
     "output_type": "execute_result"
    }
   ],
   "source": [
    "four = df[['log_rect', 'log_revt', 'log_recd', 'log_avg_vwretd']]\n",
    "\n",
    "four.describe()"
   ]
  },
  {
   "cell_type": "code",
   "execution_count": 22,
   "id": "81b89017",
   "metadata": {},
   "outputs": [
    {
     "name": "stdout",
     "output_type": "stream",
     "text": [
      "                log_rect  log_revt  log_recd  log_avg_vwretd\n",
      "log_rect        1.000000  0.757807  0.812697        0.071581\n",
      "log_revt        0.757807  1.000000  0.559753        0.100824\n",
      "log_recd        0.812697  0.559753  1.000000        0.012252\n",
      "log_avg_vwretd  0.071581  0.100824  0.012252        1.000000\n"
     ]
    }
   ],
   "source": [
    "corr_matrix = four.corr()\n",
    "\n",
    "print(corr_matrix)"
   ]
  },
  {
   "cell_type": "code",
   "execution_count": null,
   "id": "8ffea570",
   "metadata": {},
   "outputs": [],
   "source": []
  },
  {
   "cell_type": "code",
   "execution_count": 18,
   "id": "bf1577d0",
   "metadata": {},
   "outputs": [],
   "source": [
    "# Case 1: missing recd to mean imputation\n",
    "#(0) simple linear\n",
    "#(1) linear\n",
    "#(2) Ridge\n",
    "#(3) Randomforest\n",
    "\n",
    "# Case 2: delete rows missing \"recd\"\n",
    "#(0) simple linear\n",
    "#(1) linear\n",
    "#(1-2) histrogram\n",
    "#(2) Ridge\n",
    "#(3) Randomforest\n"
   ]
  },
  {
   "cell_type": "code",
   "execution_count": 19,
   "id": "83bb940e",
   "metadata": {},
   "outputs": [],
   "source": [
    "# Case 1: missing recd to mean imputation"
   ]
  },
  {
   "cell_type": "code",
   "execution_count": 20,
   "id": "4f2e046c",
   "metadata": {},
   "outputs": [],
   "source": [
    "#(0) simple linear"
   ]
  },
  {
   "cell_type": "code",
   "execution_count": 23,
   "id": "fc12a066",
   "metadata": {},
   "outputs": [],
   "source": [
    "from sklearn.impute import SimpleImputer\n",
    "\n",
    "# impute missing values in y using mean imputation\n",
    "imputer = SimpleImputer(strategy='mean')\n",
    "df['y_imputed'] = imputer.fit_transform(df['log_recd'].values.reshape(-1, 1))"
   ]
  },
  {
   "cell_type": "code",
   "execution_count": 24,
   "id": "90330c9a",
   "metadata": {},
   "outputs": [
    {
     "data": {
      "text/html": [
       "<div>\n",
       "<style scoped>\n",
       "    .dataframe tbody tr th:only-of-type {\n",
       "        vertical-align: middle;\n",
       "    }\n",
       "\n",
       "    .dataframe tbody tr th {\n",
       "        vertical-align: top;\n",
       "    }\n",
       "\n",
       "    .dataframe thead th {\n",
       "        text-align: right;\n",
       "    }\n",
       "</style>\n",
       "<table border=\"1\" class=\"dataframe\">\n",
       "  <thead>\n",
       "    <tr style=\"text-align: right;\">\n",
       "      <th></th>\n",
       "      <th>log_rect</th>\n",
       "      <th>log_revt</th>\n",
       "      <th>y_imputed</th>\n",
       "      <th>log_avg_vwretd</th>\n",
       "    </tr>\n",
       "  </thead>\n",
       "  <tbody>\n",
       "    <tr>\n",
       "      <th>count</th>\n",
       "      <td>7655.000000</td>\n",
       "      <td>7655.000000</td>\n",
       "      <td>7655.000000</td>\n",
       "      <td>7655.000000</td>\n",
       "    </tr>\n",
       "    <tr>\n",
       "      <th>mean</th>\n",
       "      <td>3.001992</td>\n",
       "      <td>6.599307</td>\n",
       "      <td>0.966772</td>\n",
       "      <td>0.581070</td>\n",
       "    </tr>\n",
       "    <tr>\n",
       "      <th>std</th>\n",
       "      <td>2.187063</td>\n",
       "      <td>2.295423</td>\n",
       "      <td>1.030418</td>\n",
       "      <td>0.469967</td>\n",
       "    </tr>\n",
       "    <tr>\n",
       "      <th>min</th>\n",
       "      <td>0.000000</td>\n",
       "      <td>0.000000</td>\n",
       "      <td>0.000000</td>\n",
       "      <td>0.000000</td>\n",
       "    </tr>\n",
       "    <tr>\n",
       "      <th>25%</th>\n",
       "      <td>1.225832</td>\n",
       "      <td>5.359967</td>\n",
       "      <td>0.180235</td>\n",
       "      <td>0.000000</td>\n",
       "    </tr>\n",
       "    <tr>\n",
       "      <th>50%</th>\n",
       "      <td>2.725759</td>\n",
       "      <td>6.681035</td>\n",
       "      <td>0.966772</td>\n",
       "      <td>0.715591</td>\n",
       "    </tr>\n",
       "    <tr>\n",
       "      <th>75%</th>\n",
       "      <td>4.520244</td>\n",
       "      <td>8.081367</td>\n",
       "      <td>0.966772</td>\n",
       "      <td>0.948305</td>\n",
       "    </tr>\n",
       "    <tr>\n",
       "      <th>max</th>\n",
       "      <td>10.361640</td>\n",
       "      <td>13.258213</td>\n",
       "      <td>7.515889</td>\n",
       "      <td>1.251595</td>\n",
       "    </tr>\n",
       "  </tbody>\n",
       "</table>\n",
       "</div>"
      ],
      "text/plain": [
       "          log_rect     log_revt    y_imputed  log_avg_vwretd\n",
       "count  7655.000000  7655.000000  7655.000000     7655.000000\n",
       "mean      3.001992     6.599307     0.966772        0.581070\n",
       "std       2.187063     2.295423     1.030418        0.469967\n",
       "min       0.000000     0.000000     0.000000        0.000000\n",
       "25%       1.225832     5.359967     0.180235        0.000000\n",
       "50%       2.725759     6.681035     0.966772        0.715591\n",
       "75%       4.520244     8.081367     0.966772        0.948305\n",
       "max      10.361640    13.258213     7.515889        1.251595"
      ]
     },
     "execution_count": 24,
     "metadata": {},
     "output_type": "execute_result"
    }
   ],
   "source": [
    "new = df[['log_rect', 'log_revt', 'y_imputed', 'log_avg_vwretd']]\n",
    "\n",
    "new.describe()"
   ]
  },
  {
   "cell_type": "code",
   "execution_count": 25,
   "id": "d0157285",
   "metadata": {},
   "outputs": [
    {
     "data": {
      "text/html": [
       "<style>#sk-container-id-3 {color: black;background-color: white;}#sk-container-id-3 pre{padding: 0;}#sk-container-id-3 div.sk-toggleable {background-color: white;}#sk-container-id-3 label.sk-toggleable__label {cursor: pointer;display: block;width: 100%;margin-bottom: 0;padding: 0.3em;box-sizing: border-box;text-align: center;}#sk-container-id-3 label.sk-toggleable__label-arrow:before {content: \"▸\";float: left;margin-right: 0.25em;color: #696969;}#sk-container-id-3 label.sk-toggleable__label-arrow:hover:before {color: black;}#sk-container-id-3 div.sk-estimator:hover label.sk-toggleable__label-arrow:before {color: black;}#sk-container-id-3 div.sk-toggleable__content {max-height: 0;max-width: 0;overflow: hidden;text-align: left;background-color: #f0f8ff;}#sk-container-id-3 div.sk-toggleable__content pre {margin: 0.2em;color: black;border-radius: 0.25em;background-color: #f0f8ff;}#sk-container-id-3 input.sk-toggleable__control:checked~div.sk-toggleable__content {max-height: 200px;max-width: 100%;overflow: auto;}#sk-container-id-3 input.sk-toggleable__control:checked~label.sk-toggleable__label-arrow:before {content: \"▾\";}#sk-container-id-3 div.sk-estimator input.sk-toggleable__control:checked~label.sk-toggleable__label {background-color: #d4ebff;}#sk-container-id-3 div.sk-label input.sk-toggleable__control:checked~label.sk-toggleable__label {background-color: #d4ebff;}#sk-container-id-3 input.sk-hidden--visually {border: 0;clip: rect(1px 1px 1px 1px);clip: rect(1px, 1px, 1px, 1px);height: 1px;margin: -1px;overflow: hidden;padding: 0;position: absolute;width: 1px;}#sk-container-id-3 div.sk-estimator {font-family: monospace;background-color: #f0f8ff;border: 1px dotted black;border-radius: 0.25em;box-sizing: border-box;margin-bottom: 0.5em;}#sk-container-id-3 div.sk-estimator:hover {background-color: #d4ebff;}#sk-container-id-3 div.sk-parallel-item::after {content: \"\";width: 100%;border-bottom: 1px solid gray;flex-grow: 1;}#sk-container-id-3 div.sk-label:hover label.sk-toggleable__label {background-color: #d4ebff;}#sk-container-id-3 div.sk-serial::before {content: \"\";position: absolute;border-left: 1px solid gray;box-sizing: border-box;top: 0;bottom: 0;left: 50%;z-index: 0;}#sk-container-id-3 div.sk-serial {display: flex;flex-direction: column;align-items: center;background-color: white;padding-right: 0.2em;padding-left: 0.2em;position: relative;}#sk-container-id-3 div.sk-item {position: relative;z-index: 1;}#sk-container-id-3 div.sk-parallel {display: flex;align-items: stretch;justify-content: center;background-color: white;position: relative;}#sk-container-id-3 div.sk-item::before, #sk-container-id-3 div.sk-parallel-item::before {content: \"\";position: absolute;border-left: 1px solid gray;box-sizing: border-box;top: 0;bottom: 0;left: 50%;z-index: -1;}#sk-container-id-3 div.sk-parallel-item {display: flex;flex-direction: column;z-index: 1;position: relative;background-color: white;}#sk-container-id-3 div.sk-parallel-item:first-child::after {align-self: flex-end;width: 50%;}#sk-container-id-3 div.sk-parallel-item:last-child::after {align-self: flex-start;width: 50%;}#sk-container-id-3 div.sk-parallel-item:only-child::after {width: 0;}#sk-container-id-3 div.sk-dashed-wrapped {border: 1px dashed gray;margin: 0 0.4em 0.5em 0.4em;box-sizing: border-box;padding-bottom: 0.4em;background-color: white;}#sk-container-id-3 div.sk-label label {font-family: monospace;font-weight: bold;display: inline-block;line-height: 1.2em;}#sk-container-id-3 div.sk-label-container {text-align: center;}#sk-container-id-3 div.sk-container {/* jupyter's `normalize.less` sets `[hidden] { display: none; }` but bootstrap.min.css set `[hidden] { display: none !important; }` so we also need the `!important` here to be able to override the default hidden behavior on the sphinx rendered scikit-learn.org. See: https://github.com/scikit-learn/scikit-learn/issues/21755 */display: inline-block !important;position: relative;}#sk-container-id-3 div.sk-text-repr-fallback {display: none;}</style><div id=\"sk-container-id-3\" class=\"sk-top-container\"><div class=\"sk-text-repr-fallback\"><pre>LinearRegression()</pre><b>In a Jupyter environment, please rerun this cell to show the HTML representation or trust the notebook. <br />On GitHub, the HTML representation is unable to render, please try loading this page with nbviewer.org.</b></div><div class=\"sk-container\" hidden><div class=\"sk-item\"><div class=\"sk-estimator sk-toggleable\"><input class=\"sk-toggleable__control sk-hidden--visually\" id=\"sk-estimator-id-3\" type=\"checkbox\" checked><label for=\"sk-estimator-id-3\" class=\"sk-toggleable__label sk-toggleable__label-arrow\">LinearRegression</label><div class=\"sk-toggleable__content\"><pre>LinearRegression()</pre></div></div></div></div></div>"
      ],
      "text/plain": [
       "LinearRegression()"
      ]
     },
     "execution_count": 25,
     "metadata": {},
     "output_type": "execute_result"
    }
   ],
   "source": [
    "from sklearn.linear_model import LinearRegression\n",
    "\n",
    "# select the features and response variable\n",
    "features = ['log_rect', 'log_revt', 'log_avg_vwretd']\n",
    "X = new[features]\n",
    "y = new['y_imputed']\n",
    "\n",
    "# fit the regression model with imputed y\n",
    "lr_many_features = LinearRegression()\n",
    "lr_many_features.fit(X, y)"
   ]
  },
  {
   "cell_type": "code",
   "execution_count": 26,
   "id": "6f4b894b",
   "metadata": {},
   "outputs": [
    {
     "name": "stdout",
     "output_type": "stream",
     "text": [
      "7655\n"
     ]
    }
   ],
   "source": [
    "print(len(new))"
   ]
  },
  {
   "cell_type": "code",
   "execution_count": 27,
   "id": "5815a55c",
   "metadata": {},
   "outputs": [
    {
     "name": "stdout",
     "output_type": "stream",
     "text": [
      "66\n"
     ]
    }
   ],
   "source": [
    "# check for duplicate rows in the original data\n",
    "print(new.duplicated().sum())  # should return 0 if there are no duplicates"
   ]
  },
  {
   "cell_type": "code",
   "execution_count": 28,
   "id": "805089ea",
   "metadata": {},
   "outputs": [],
   "source": [
    "# drop duplicate rows in the original data\n",
    "new = new.drop_duplicates()"
   ]
  },
  {
   "cell_type": "code",
   "execution_count": 29,
   "id": "697757ec",
   "metadata": {},
   "outputs": [
    {
     "name": "stdout",
     "output_type": "stream",
     "text": [
      "7589\n"
     ]
    }
   ],
   "source": [
    "print(len(new))"
   ]
  },
  {
   "cell_type": "code",
   "execution_count": 30,
   "id": "4fa38a29",
   "metadata": {},
   "outputs": [
    {
     "data": {
      "text/html": [
       "<div>\n",
       "<style scoped>\n",
       "    .dataframe tbody tr th:only-of-type {\n",
       "        vertical-align: middle;\n",
       "    }\n",
       "\n",
       "    .dataframe tbody tr th {\n",
       "        vertical-align: top;\n",
       "    }\n",
       "\n",
       "    .dataframe thead th {\n",
       "        text-align: right;\n",
       "    }\n",
       "</style>\n",
       "<table border=\"1\" class=\"dataframe\">\n",
       "  <thead>\n",
       "    <tr style=\"text-align: right;\">\n",
       "      <th></th>\n",
       "      <th>log_rect</th>\n",
       "      <th>log_revt</th>\n",
       "      <th>y_imputed</th>\n",
       "      <th>log_avg_vwretd</th>\n",
       "    </tr>\n",
       "  </thead>\n",
       "  <tbody>\n",
       "    <tr>\n",
       "      <th>count</th>\n",
       "      <td>7589.000000</td>\n",
       "      <td>7589.000000</td>\n",
       "      <td>7589.000000</td>\n",
       "      <td>7589.000000</td>\n",
       "    </tr>\n",
       "    <tr>\n",
       "      <th>mean</th>\n",
       "      <td>3.006177</td>\n",
       "      <td>6.619486</td>\n",
       "      <td>0.969453</td>\n",
       "      <td>0.582063</td>\n",
       "    </tr>\n",
       "    <tr>\n",
       "      <th>std</th>\n",
       "      <td>2.184926</td>\n",
       "      <td>2.269790</td>\n",
       "      <td>1.031300</td>\n",
       "      <td>0.469510</td>\n",
       "    </tr>\n",
       "    <tr>\n",
       "      <th>min</th>\n",
       "      <td>0.000000</td>\n",
       "      <td>0.000000</td>\n",
       "      <td>0.000000</td>\n",
       "      <td>0.000000</td>\n",
       "    </tr>\n",
       "    <tr>\n",
       "      <th>25%</th>\n",
       "      <td>1.232560</td>\n",
       "      <td>5.369111</td>\n",
       "      <td>0.182322</td>\n",
       "      <td>0.000000</td>\n",
       "    </tr>\n",
       "    <tr>\n",
       "      <th>50%</th>\n",
       "      <td>2.725759</td>\n",
       "      <td>6.688008</td>\n",
       "      <td>0.966772</td>\n",
       "      <td>0.715591</td>\n",
       "    </tr>\n",
       "    <tr>\n",
       "      <th>75%</th>\n",
       "      <td>4.520320</td>\n",
       "      <td>8.087582</td>\n",
       "      <td>0.966772</td>\n",
       "      <td>0.948305</td>\n",
       "    </tr>\n",
       "    <tr>\n",
       "      <th>max</th>\n",
       "      <td>10.361640</td>\n",
       "      <td>13.258213</td>\n",
       "      <td>7.515889</td>\n",
       "      <td>1.251595</td>\n",
       "    </tr>\n",
       "  </tbody>\n",
       "</table>\n",
       "</div>"
      ],
      "text/plain": [
       "          log_rect     log_revt    y_imputed  log_avg_vwretd\n",
       "count  7589.000000  7589.000000  7589.000000     7589.000000\n",
       "mean      3.006177     6.619486     0.969453        0.582063\n",
       "std       2.184926     2.269790     1.031300        0.469510\n",
       "min       0.000000     0.000000     0.000000        0.000000\n",
       "25%       1.232560     5.369111     0.182322        0.000000\n",
       "50%       2.725759     6.688008     0.966772        0.715591\n",
       "75%       4.520320     8.087582     0.966772        0.948305\n",
       "max      10.361640    13.258213     7.515889        1.251595"
      ]
     },
     "execution_count": 30,
     "metadata": {},
     "output_type": "execute_result"
    }
   ],
   "source": [
    "new.describe()"
   ]
  },
  {
   "cell_type": "code",
   "execution_count": 31,
   "id": "35272934",
   "metadata": {
    "scrolled": false
   },
   "outputs": [
    {
     "name": "stdout",
     "output_type": "stream",
     "text": [
      "prediction = 0.33081557755478663 +\n",
      "0.3687833238034569 * log_rect +\n",
      "-0.06531005328184543 * log_revt +\n",
      "-0.06905781432076123 * log_avg_vwretd\n"
     ]
    }
   ],
   "source": [
    "print(('prediction = ' +\n",
    "       f'{lr_many_features.intercept_} +\\n' +\n",
    "       ' +\\n'.join([f'{n} * {f}' for f, n in zip(features, lr_many_features.coef_)])))"
   ]
  },
  {
   "cell_type": "code",
   "execution_count": 30,
   "id": "384dcd0f",
   "metadata": {},
   "outputs": [],
   "source": [
    "#(1) Linear"
   ]
  },
  {
   "cell_type": "code",
   "execution_count": 32,
   "id": "619d5d7f",
   "metadata": {},
   "outputs": [
    {
     "name": "stdout",
     "output_type": "stream",
     "text": [
      "1518\n",
      "1518\n"
     ]
    }
   ],
   "source": [
    "from sklearn.model_selection import train_test_split\n",
    "\n",
    "# Split the data into training and test sets\n",
    "X = new[['log_rect', 'log_revt', 'log_avg_vwretd']]\n",
    "y = new['y_imputed']\n",
    "\n",
    "X_train, X_test, y_train, y_test = train_test_split(X, y, test_size=0.2)\n",
    "\n",
    "# check the size of the test set\n",
    "print(len(X_test))\n",
    "print(len(y_test))"
   ]
  },
  {
   "cell_type": "code",
   "execution_count": 34,
   "id": "238b8df1",
   "metadata": {},
   "outputs": [],
   "source": [
    "# Train a linear regression model and make predictions\n",
    "model = LinearRegression()\n",
    "model.fit(X_train, y_train)\n",
    "\n",
    "y_pred = model.predict(X_test)"
   ]
  },
  {
   "cell_type": "code",
   "execution_count": 35,
   "id": "eca12e14",
   "metadata": {},
   "outputs": [
    {
     "name": "stdout",
     "output_type": "stream",
     "text": [
      "MSE: 0.56\n",
      "MAE: 0.56\n",
      "R2 score: 0.46\n"
     ]
    }
   ],
   "source": [
    "from sklearn.metrics import mean_squared_error, mean_absolute_error, r2_score\n",
    "\n",
    "# Compute the MSE, MAE, and R2 score for the predictions\n",
    "mse = mean_squared_error(y_test, y_pred)\n",
    "mae = mean_absolute_error(y_test, y_pred)\n",
    "r2 = r2_score(y_test, y_pred)\n",
    "\n",
    "print(f'MSE: {mse:.2f}')\n",
    "print(f'MAE: {mae:.2f}')\n",
    "print(f'R2 score: {r2:.2f}')"
   ]
  },
  {
   "cell_type": "code",
   "execution_count": 36,
   "id": "4219507c",
   "metadata": {
    "scrolled": true
   },
   "outputs": [
    {
     "name": "stdout",
     "output_type": "stream",
     "text": [
      "[ 0.41206667  0.7160686   2.79084108 ... -0.16929175  1.65653436\n",
      "  0.33323578]\n"
     ]
    }
   ],
   "source": [
    "print(y_pred)"
   ]
  },
  {
   "cell_type": "code",
   "execution_count": 37,
   "id": "7f10b66c",
   "metadata": {
    "scrolled": true
   },
   "outputs": [
    {
     "name": "stdout",
     "output_type": "stream",
     "text": [
      "      log_rect  log_revt  log_avg_vwretd  y_imputed  recd_pred\n",
      "5889  0.808260  3.385644        0.000000   0.211880        NaN\n",
      "5762  2.303884  6.405192        0.717967   0.875469        NaN\n",
      "7622  8.069207  7.979940        0.019210   4.370991        NaN\n",
      "5268  0.231112  3.051498        0.000000   0.014889        NaN\n",
      "3117  0.985070  4.561333        0.000000   0.061095        NaN\n",
      "...        ...       ...             ...        ...        ...\n",
      "1513       NaN       NaN             NaN        NaN   1.454324\n",
      "1514       NaN       NaN             NaN        NaN   1.512996\n",
      "1515       NaN       NaN             NaN        NaN  -0.169292\n",
      "1516       NaN       NaN             NaN        NaN   1.656534\n",
      "1517       NaN       NaN             NaN        NaN   0.333236\n",
      "\n",
      "[2705 rows x 5 columns]\n"
     ]
    }
   ],
   "source": [
    "# Concatenate the X_test and y_test dataframes with the predicted values\n",
    "results = pd.concat([X_test, y_test, pd.Series(y_pred, name='recd_pred')], axis=1)\n",
    "\n",
    "# Print out the results dataframe\n",
    "print(results)"
   ]
  },
  {
   "cell_type": "code",
   "execution_count": 38,
   "id": "9478b5ab",
   "metadata": {},
   "outputs": [
    {
     "data": {
      "image/png": "[encoded data removed]",
      "text/plain": [
       "<Figure size 640x480 with 1 Axes>"
      ]
     },
     "metadata": {},
     "output_type": "display_data"
    }
   ],
   "source": [
    "import matplotlib.pyplot as plt\n",
    "\n",
    "# Plot the actual vs. predicted values\n",
    "plt.scatter(y_test, y_pred, color='green')\n",
    "plt.plot([y_test.min(), y_test.max()], [y_test.min(), y_test.max()], 'k--', lw=2)\n",
    "plt.xlabel('Actual Doubtful Receivables')\n",
    "plt.ylabel('Predicted Doubtful Receivables')\n",
    "plt.title('Linear Regression (Mean Imputation)')\n",
    "\n",
    "# Compute the evaluation metrics\n",
    "mse = mean_squared_error(y_test, y_pred)\n",
    "mae = mean_absolute_error(y_test, y_pred)\n",
    "r2 = r2_score(y_test, y_pred)\n",
    "\n",
    "# Add text to the plot to display the evaluation metrics\n",
    "plt.text(y_test.min(), y_test.max()*0.9, f'MSE: {mse:.2f}')\n",
    "plt.text(y_test.min(), y_test.max()*0.8, f'MAE: {mae:.2f}')\n",
    "plt.text(y_test.min(), y_test.max()*0.7, f'R2 score: {r2:.2f}')\n",
    "\n",
    "# Show the plot\n",
    "plt.show()"
   ]
  },
  {
   "cell_type": "code",
   "execution_count": 37,
   "id": "d8e3567b",
   "metadata": {},
   "outputs": [],
   "source": [
    "#(2) Ridge"
   ]
  },
  {
   "cell_type": "code",
   "execution_count": 39,
   "id": "237bc09f",
   "metadata": {},
   "outputs": [],
   "source": [
    "from sklearn.preprocessing import StandardScaler\n",
    "from sklearn.linear_model import Ridge\n",
    "\n",
    "# Create a StandardScaler object\n",
    "scaler = StandardScaler()\n",
    "\n",
    "# Fit the scaler to the training data\n",
    "scaler.fit(X_train)\n",
    "\n",
    "# Transform the training and test sets\n",
    "X_train_scaled = scaler.transform(X_train)\n",
    "X_test_scaled = scaler.transform(X_test)\n",
    "\n",
    "# Create a Ridge regression object\n",
    "model = Ridge(alpha=1000)\n",
    "\n",
    "# Fit the model to the training data\n",
    "model.fit(X_train_scaled, y_train)\n",
    "\n",
    "# Make predictions on the test set\n",
    "y_pred = model.predict(X_test_scaled)"
   ]
  },
  {
   "cell_type": "code",
   "execution_count": 40,
   "id": "5ae0110c",
   "metadata": {},
   "outputs": [
    {
     "name": "stdout",
     "output_type": "stream",
     "text": [
      "Mean squared error: 0.58\n",
      "R-squared: 0.44\n"
     ]
    }
   ],
   "source": [
    "from sklearn.metrics import mean_squared_error, r2_score\n",
    "\n",
    "# Calculate the mean squared error (MSE)\n",
    "mse = mean_squared_error(y_test, y_pred)\n",
    "\n",
    "# Calculate the coefficient of determination (R-squared)\n",
    "r2 = r2_score(y_test, y_pred)\n",
    "\n",
    "# Print out the results\n",
    "print(f'Mean squared error: {mse:.2f}')\n",
    "print(f'R-squared: {r2:.2f}')"
   ]
  },
  {
   "cell_type": "code",
   "execution_count": 40,
   "id": "3acc4438",
   "metadata": {},
   "outputs": [],
   "source": [
    "#(3) Randomforest"
   ]
  },
  {
   "cell_type": "code",
   "execution_count": 41,
   "id": "336c74af",
   "metadata": {},
   "outputs": [
    {
     "name": "stdout",
     "output_type": "stream",
     "text": [
      "Mean squared error: 0.44\n",
      "R-squared: 0.58\n"
     ]
    }
   ],
   "source": [
    "from sklearn.ensemble import RandomForestRegressor\n",
    "\n",
    "# Split the data into training and test sets\n",
    "X_train, X_test, y_train, y_test = train_test_split(X, y, test_size=0.20, random_state=42)\n",
    "\n",
    "# Create a random forest regression model and fit it to the training data\n",
    "rf = RandomForestRegressor(n_estimators=10, random_state=42)\n",
    "rf.fit(X_train, y_train)\n",
    "\n",
    "# Make predictions on the test data\n",
    "y_pred = rf.predict(X_test)\n",
    "\n",
    "# Calculate the mean squared error (MSE) and R-squared for the predictions\n",
    "mse = mean_squared_error(y_test, y_pred)\n",
    "r2 = r2_score(y_test, y_pred)\n",
    "\n",
    "# Print out the results\n",
    "print(f'Mean squared error: {mse:.2f}')\n",
    "print(f'R-squared: {r2:.2f}')"
   ]
  },
  {
   "cell_type": "code",
   "execution_count": 42,
   "id": "daa02dc4",
   "metadata": {},
   "outputs": [
    {
     "data": {
      "image/png": "[encoded data removed]",
      "text/plain": [
       "<Figure size 640x480 with 1 Axes>"
      ]
     },
     "metadata": {},
     "output_type": "display_data"
    }
   ],
   "source": [
    "import matplotlib.pyplot as plt\n",
    "\n",
    "# Create a scatter plot of the predicted versus actual values\n",
    "plt.scatter(y_test, y_pred, color='red', alpha=0.5)\n",
    "\n",
    "# Add a line representing perfect predictions\n",
    "plt.plot([y_test.min(), y_test.max()], [y_test.min(), y_test.max()], 'r--')\n",
    "\n",
    "# Set the plot title and axes labels\n",
    "plt.title('Random Forest Regression (Mean Imputation)')\n",
    "plt.xlabel('Actual Doubtful Receivables')\n",
    "plt.ylabel('Predicted Doubtful Receivables')\n",
    "\n",
    "# Add text to the plot to display the evaluation metrics\n",
    "plt.text(y_test.min(), y_test.max()*0.9, f'MSE: {mse:.2f}')\n",
    "plt.text(y_test.min(), y_test.max()*0.8, f'MAE: {mae:.2f}')\n",
    "plt.text(y_test.min(), y_test.max()*0.7, f'R2 score: {r2:.2f}')\n",
    "\n",
    "# Show the plot\n",
    "plt.show()"
   ]
  },
  {
   "cell_type": "code",
   "execution_count": 43,
   "id": "fa312857",
   "metadata": {},
   "outputs": [],
   "source": [
    "# Case 2: delete rows missing \"recd\""
   ]
  },
  {
   "cell_type": "code",
   "execution_count": 43,
   "id": "e2c2ffac",
   "metadata": {},
   "outputs": [],
   "source": [
    "df_drop = df.dropna(subset=['recd'], inplace=False)"
   ]
  },
  {
   "cell_type": "code",
   "execution_count": 44,
   "id": "3e384dd4",
   "metadata": {},
   "outputs": [
    {
     "data": {
      "text/html": [
       "<div>\n",
       "<style scoped>\n",
       "    .dataframe tbody tr th:only-of-type {\n",
       "        vertical-align: middle;\n",
       "    }\n",
       "\n",
       "    .dataframe tbody tr th {\n",
       "        vertical-align: top;\n",
       "    }\n",
       "\n",
       "    .dataframe thead th {\n",
       "        text-align: right;\n",
       "    }\n",
       "</style>\n",
       "<table border=\"1\" class=\"dataframe\">\n",
       "  <thead>\n",
       "    <tr style=\"text-align: right;\">\n",
       "      <th></th>\n",
       "      <th>conm</th>\n",
       "      <th>rect</th>\n",
       "      <th>revt</th>\n",
       "      <th>GVKEY</th>\n",
       "      <th>YEAR</th>\n",
       "      <th>recd</th>\n",
       "      <th>avg_vwretd</th>\n",
       "      <th>log_revt</th>\n",
       "      <th>log_rect</th>\n",
       "      <th>log_recd</th>\n",
       "      <th>log_avg_vwretd</th>\n",
       "      <th>y_imputed</th>\n",
       "    </tr>\n",
       "  </thead>\n",
       "  <tbody>\n",
       "    <tr>\n",
       "      <th>0</th>\n",
       "      <td>ALBERTO-CULVER CO</td>\n",
       "      <td>154.207</td>\n",
       "      <td>2247.163</td>\n",
       "      <td>1239</td>\n",
       "      <td>2000</td>\n",
       "      <td>10.135</td>\n",
       "      <td>0.000000</td>\n",
       "      <td>7.717869</td>\n",
       "      <td>5.044760</td>\n",
       "      <td>2.410093</td>\n",
       "      <td>0.000000</td>\n",
       "      <td>2.410093</td>\n",
       "    </tr>\n",
       "    <tr>\n",
       "      <th>1</th>\n",
       "      <td>ALBERTO-CULVER CO</td>\n",
       "      <td>169.657</td>\n",
       "      <td>2494.180</td>\n",
       "      <td>1239</td>\n",
       "      <td>2001</td>\n",
       "      <td>11.387</td>\n",
       "      <td>0.000000</td>\n",
       "      <td>7.822116</td>\n",
       "      <td>5.139656</td>\n",
       "      <td>2.516648</td>\n",
       "      <td>0.000000</td>\n",
       "      <td>2.516648</td>\n",
       "    </tr>\n",
       "    <tr>\n",
       "      <th>2</th>\n",
       "      <td>ALBERTO-CULVER CO</td>\n",
       "      <td>209.010</td>\n",
       "      <td>2650.976</td>\n",
       "      <td>1239</td>\n",
       "      <td>2002</td>\n",
       "      <td>17.550</td>\n",
       "      <td>0.000000</td>\n",
       "      <td>7.883060</td>\n",
       "      <td>5.347155</td>\n",
       "      <td>2.920470</td>\n",
       "      <td>0.000000</td>\n",
       "      <td>2.920470</td>\n",
       "    </tr>\n",
       "    <tr>\n",
       "      <th>3</th>\n",
       "      <td>ALBERTO-CULVER CO</td>\n",
       "      <td>226.054</td>\n",
       "      <td>2891.417</td>\n",
       "      <td>1239</td>\n",
       "      <td>2003</td>\n",
       "      <td>19.111</td>\n",
       "      <td>2.462588</td>\n",
       "      <td>7.969848</td>\n",
       "      <td>5.425188</td>\n",
       "      <td>3.001267</td>\n",
       "      <td>1.242016</td>\n",
       "      <td>3.001267</td>\n",
       "    </tr>\n",
       "    <tr>\n",
       "      <th>4</th>\n",
       "      <td>ALBERTO-CULVER CO</td>\n",
       "      <td>250.008</td>\n",
       "      <td>3257.996</td>\n",
       "      <td>1239</td>\n",
       "      <td>2004</td>\n",
       "      <td>12.860</td>\n",
       "      <td>1.050260</td>\n",
       "      <td>8.089174</td>\n",
       "      <td>5.525485</td>\n",
       "      <td>2.629007</td>\n",
       "      <td>0.717967</td>\n",
       "      <td>2.629007</td>\n",
       "    </tr>\n",
       "    <tr>\n",
       "      <th>...</th>\n",
       "      <td>...</td>\n",
       "      <td>...</td>\n",
       "      <td>...</td>\n",
       "      <td>...</td>\n",
       "      <td>...</td>\n",
       "      <td>...</td>\n",
       "      <td>...</td>\n",
       "      <td>...</td>\n",
       "      <td>...</td>\n",
       "      <td>...</td>\n",
       "      <td>...</td>\n",
       "      <td>...</td>\n",
       "    </tr>\n",
       "    <tr>\n",
       "      <th>7647</th>\n",
       "      <td>ARKO CORP</td>\n",
       "      <td>59.845</td>\n",
       "      <td>4128.690</td>\n",
       "      <td>312066</td>\n",
       "      <td>2019</td>\n",
       "      <td>0.384</td>\n",
       "      <td>2.231376</td>\n",
       "      <td>8.325958</td>\n",
       "      <td>4.108330</td>\n",
       "      <td>0.324978</td>\n",
       "      <td>1.172908</td>\n",
       "      <td>0.324978</td>\n",
       "    </tr>\n",
       "    <tr>\n",
       "      <th>7648</th>\n",
       "      <td>ARKO CORP</td>\n",
       "      <td>92.864</td>\n",
       "      <td>3910.715</td>\n",
       "      <td>312066</td>\n",
       "      <td>2020</td>\n",
       "      <td>0.569</td>\n",
       "      <td>1.873544</td>\n",
       "      <td>8.271731</td>\n",
       "      <td>4.541847</td>\n",
       "      <td>0.450438</td>\n",
       "      <td>1.055546</td>\n",
       "      <td>0.450438</td>\n",
       "    </tr>\n",
       "    <tr>\n",
       "      <th>7649</th>\n",
       "      <td>ARKO CORP</td>\n",
       "      <td>62.342</td>\n",
       "      <td>7417.398</td>\n",
       "      <td>312066</td>\n",
       "      <td>2021</td>\n",
       "      <td>1.100</td>\n",
       "      <td>1.785232</td>\n",
       "      <td>8.911718</td>\n",
       "      <td>4.148549</td>\n",
       "      <td>0.741937</td>\n",
       "      <td>1.024331</td>\n",
       "      <td>0.741937</td>\n",
       "    </tr>\n",
       "    <tr>\n",
       "      <th>7650</th>\n",
       "      <td>JUST EAT TAKEAWAY.COM N.V.</td>\n",
       "      <td>58.000</td>\n",
       "      <td>467.000</td>\n",
       "      <td>322576</td>\n",
       "      <td>2019</td>\n",
       "      <td>2.000</td>\n",
       "      <td>2.231376</td>\n",
       "      <td>6.148468</td>\n",
       "      <td>4.077537</td>\n",
       "      <td>1.098612</td>\n",
       "      <td>1.172908</td>\n",
       "      <td>1.098612</td>\n",
       "    </tr>\n",
       "    <tr>\n",
       "      <th>7651</th>\n",
       "      <td>JUST EAT TAKEAWAY.COM N.V.</td>\n",
       "      <td>215.000</td>\n",
       "      <td>2461.000</td>\n",
       "      <td>322576</td>\n",
       "      <td>2020</td>\n",
       "      <td>7.000</td>\n",
       "      <td>1.873544</td>\n",
       "      <td>7.808729</td>\n",
       "      <td>5.375278</td>\n",
       "      <td>2.079442</td>\n",
       "      <td>1.055546</td>\n",
       "      <td>2.079442</td>\n",
       "    </tr>\n",
       "  </tbody>\n",
       "</table>\n",
       "<p>5002 rows × 12 columns</p>\n",
       "</div>"
      ],
      "text/plain": [
       "                            conm     rect      revt   GVKEY  YEAR    recd  \\\n",
       "0              ALBERTO-CULVER CO  154.207  2247.163    1239  2000  10.135   \n",
       "1              ALBERTO-CULVER CO  169.657  2494.180    1239  2001  11.387   \n",
       "2              ALBERTO-CULVER CO  209.010  2650.976    1239  2002  17.550   \n",
       "3              ALBERTO-CULVER CO  226.054  2891.417    1239  2003  19.111   \n",
       "4              ALBERTO-CULVER CO  250.008  3257.996    1239  2004  12.860   \n",
       "...                          ...      ...       ...     ...   ...     ...   \n",
       "7647                   ARKO CORP   59.845  4128.690  312066  2019   0.384   \n",
       "7648                   ARKO CORP   92.864  3910.715  312066  2020   0.569   \n",
       "7649                   ARKO CORP   62.342  7417.398  312066  2021   1.100   \n",
       "7650  JUST EAT TAKEAWAY.COM N.V.   58.000   467.000  322576  2019   2.000   \n",
       "7651  JUST EAT TAKEAWAY.COM N.V.  215.000  2461.000  322576  2020   7.000   \n",
       "\n",
       "      avg_vwretd  log_revt  log_rect  log_recd  log_avg_vwretd  y_imputed  \n",
       "0       0.000000  7.717869  5.044760  2.410093        0.000000   2.410093  \n",
       "1       0.000000  7.822116  5.139656  2.516648        0.000000   2.516648  \n",
       "2       0.000000  7.883060  5.347155  2.920470        0.000000   2.920470  \n",
       "3       2.462588  7.969848  5.425188  3.001267        1.242016   3.001267  \n",
       "4       1.050260  8.089174  5.525485  2.629007        0.717967   2.629007  \n",
       "...          ...       ...       ...       ...             ...        ...  \n",
       "7647    2.231376  8.325958  4.108330  0.324978        1.172908   0.324978  \n",
       "7648    1.873544  8.271731  4.541847  0.450438        1.055546   0.450438  \n",
       "7649    1.785232  8.911718  4.148549  0.741937        1.024331   0.741937  \n",
       "7650    2.231376  6.148468  4.077537  1.098612        1.172908   1.098612  \n",
       "7651    1.873544  7.808729  5.375278  2.079442        1.055546   2.079442  \n",
       "\n",
       "[5002 rows x 12 columns]"
      ]
     },
     "execution_count": 44,
     "metadata": {},
     "output_type": "execute_result"
    }
   ],
   "source": [
    "df_drop"
   ]
  },
  {
   "cell_type": "code",
   "execution_count": 45,
   "id": "115e4ee2",
   "metadata": {
    "scrolled": true
   },
   "outputs": [
    {
     "data": {
      "text/html": [
       "<div>\n",
       "<style scoped>\n",
       "    .dataframe tbody tr th:only-of-type {\n",
       "        vertical-align: middle;\n",
       "    }\n",
       "\n",
       "    .dataframe tbody tr th {\n",
       "        vertical-align: top;\n",
       "    }\n",
       "\n",
       "    .dataframe thead th {\n",
       "        text-align: right;\n",
       "    }\n",
       "</style>\n",
       "<table border=\"1\" class=\"dataframe\">\n",
       "  <thead>\n",
       "    <tr style=\"text-align: right;\">\n",
       "      <th></th>\n",
       "      <th>rect</th>\n",
       "      <th>revt</th>\n",
       "      <th>GVKEY</th>\n",
       "      <th>YEAR</th>\n",
       "      <th>recd</th>\n",
       "      <th>avg_vwretd</th>\n",
       "      <th>log_revt</th>\n",
       "      <th>log_rect</th>\n",
       "      <th>log_recd</th>\n",
       "      <th>log_avg_vwretd</th>\n",
       "      <th>y_imputed</th>\n",
       "    </tr>\n",
       "  </thead>\n",
       "  <tbody>\n",
       "    <tr>\n",
       "      <th>count</th>\n",
       "      <td>5002.000000</td>\n",
       "      <td>5002.000000</td>\n",
       "      <td>5002.000000</td>\n",
       "      <td>5002.000000</td>\n",
       "      <td>5002.000000</td>\n",
       "      <td>5002.000000</td>\n",
       "      <td>5002.000000</td>\n",
       "      <td>5002.000000</td>\n",
       "      <td>5002.000000</td>\n",
       "      <td>5002.000000</td>\n",
       "      <td>5002.000000</td>\n",
       "    </tr>\n",
       "    <tr>\n",
       "      <th>mean</th>\n",
       "      <td>279.049107</td>\n",
       "      <td>5798.288279</td>\n",
       "      <td>68631.497801</td>\n",
       "      <td>2009.452619</td>\n",
       "      <td>11.115412</td>\n",
       "      <td>1.007612</td>\n",
       "      <td>6.641893</td>\n",
       "      <td>3.071097</td>\n",
       "      <td>0.966772</td>\n",
       "      <td>0.592091</td>\n",
       "      <td>0.966772</td>\n",
       "    </tr>\n",
       "    <tr>\n",
       "      <th>std</th>\n",
       "      <td>1325.518850</td>\n",
       "      <td>21481.460159</td>\n",
       "      <td>64677.799953</td>\n",
       "      <td>6.158723</td>\n",
       "      <td>58.635678</td>\n",
       "      <td>0.883234</td>\n",
       "      <td>2.255058</td>\n",
       "      <td>2.231394</td>\n",
       "      <td>1.274762</td>\n",
       "      <td>0.468106</td>\n",
       "      <td>1.274762</td>\n",
       "    </tr>\n",
       "    <tr>\n",
       "      <th>min</th>\n",
       "      <td>0.000000</td>\n",
       "      <td>0.000000</td>\n",
       "      <td>1239.000000</td>\n",
       "      <td>2000.000000</td>\n",
       "      <td>0.000000</td>\n",
       "      <td>0.000000</td>\n",
       "      <td>0.000000</td>\n",
       "      <td>0.000000</td>\n",
       "      <td>0.000000</td>\n",
       "      <td>0.000000</td>\n",
       "      <td>0.000000</td>\n",
       "    </tr>\n",
       "    <tr>\n",
       "      <th>25%</th>\n",
       "      <td>2.559250</td>\n",
       "      <td>236.426000</td>\n",
       "      <td>14519.000000</td>\n",
       "      <td>2004.000000</td>\n",
       "      <td>0.025000</td>\n",
       "      <td>0.000000</td>\n",
       "      <td>5.469855</td>\n",
       "      <td>1.269550</td>\n",
       "      <td>0.024693</td>\n",
       "      <td>0.000000</td>\n",
       "      <td>0.024693</td>\n",
       "    </tr>\n",
       "    <tr>\n",
       "      <th>50%</th>\n",
       "      <td>16.488000</td>\n",
       "      <td>838.547500</td>\n",
       "      <td>32063.000000</td>\n",
       "      <td>2009.000000</td>\n",
       "      <td>0.510500</td>\n",
       "      <td>1.045395</td>\n",
       "      <td>6.732863</td>\n",
       "      <td>2.861515</td>\n",
       "      <td>0.412441</td>\n",
       "      <td>0.715591</td>\n",
       "      <td>0.412441</td>\n",
       "    </tr>\n",
       "    <tr>\n",
       "      <th>75%</th>\n",
       "      <td>98.403500</td>\n",
       "      <td>3260.361500</td>\n",
       "      <td>127282.000000</td>\n",
       "      <td>2015.000000</td>\n",
       "      <td>3.230750</td>\n",
       "      <td>1.581331</td>\n",
       "      <td>8.089900</td>\n",
       "      <td>4.599187</td>\n",
       "      <td>1.442379</td>\n",
       "      <td>0.948305</td>\n",
       "      <td>1.442379</td>\n",
       "    </tr>\n",
       "    <tr>\n",
       "      <th>max</th>\n",
       "      <td>31622.000000</td>\n",
       "      <td>469822.000000</td>\n",
       "      <td>322576.000000</td>\n",
       "      <td>2022.000000</td>\n",
       "      <td>1836.000000</td>\n",
       "      <td>2.495915</td>\n",
       "      <td>13.060111</td>\n",
       "      <td>10.361640</td>\n",
       "      <td>7.515889</td>\n",
       "      <td>1.251595</td>\n",
       "      <td>7.515889</td>\n",
       "    </tr>\n",
       "  </tbody>\n",
       "</table>\n",
       "</div>"
      ],
      "text/plain": [
       "               rect           revt          GVKEY         YEAR         recd  \\\n",
       "count   5002.000000    5002.000000    5002.000000  5002.000000  5002.000000   \n",
       "mean     279.049107    5798.288279   68631.497801  2009.452619    11.115412   \n",
       "std     1325.518850   21481.460159   64677.799953     6.158723    58.635678   \n",
       "min        0.000000       0.000000    1239.000000  2000.000000     0.000000   \n",
       "25%        2.559250     236.426000   14519.000000  2004.000000     0.025000   \n",
       "50%       16.488000     838.547500   32063.000000  2009.000000     0.510500   \n",
       "75%       98.403500    3260.361500  127282.000000  2015.000000     3.230750   \n",
       "max    31622.000000  469822.000000  322576.000000  2022.000000  1836.000000   \n",
       "\n",
       "        avg_vwretd     log_revt     log_rect     log_recd  log_avg_vwretd  \\\n",
       "count  5002.000000  5002.000000  5002.000000  5002.000000     5002.000000   \n",
       "mean      1.007612     6.641893     3.071097     0.966772        0.592091   \n",
       "std       0.883234     2.255058     2.231394     1.274762        0.468106   \n",
       "min       0.000000     0.000000     0.000000     0.000000        0.000000   \n",
       "25%       0.000000     5.469855     1.269550     0.024693        0.000000   \n",
       "50%       1.045395     6.732863     2.861515     0.412441        0.715591   \n",
       "75%       1.581331     8.089900     4.599187     1.442379        0.948305   \n",
       "max       2.495915    13.060111    10.361640     7.515889        1.251595   \n",
       "\n",
       "         y_imputed  \n",
       "count  5002.000000  \n",
       "mean      0.966772  \n",
       "std       1.274762  \n",
       "min       0.000000  \n",
       "25%       0.024693  \n",
       "50%       0.412441  \n",
       "75%       1.442379  \n",
       "max       7.515889  "
      ]
     },
     "execution_count": 45,
     "metadata": {},
     "output_type": "execute_result"
    }
   ],
   "source": [
    "df_drop.describe()"
   ]
  },
  {
   "cell_type": "code",
   "execution_count": 118,
   "id": "bc94a427",
   "metadata": {},
   "outputs": [],
   "source": [
    "#(0) simple linear"
   ]
  },
  {
   "cell_type": "code",
   "execution_count": 53,
   "id": "5f6ac8d4",
   "metadata": {},
   "outputs": [
    {
     "data": {
      "text/html": [
       "<style>#sk-container-id-3 {color: black;background-color: white;}#sk-container-id-3 pre{padding: 0;}#sk-container-id-3 div.sk-toggleable {background-color: white;}#sk-container-id-3 label.sk-toggleable__label {cursor: pointer;display: block;width: 100%;margin-bottom: 0;padding: 0.3em;box-sizing: border-box;text-align: center;}#sk-container-id-3 label.sk-toggleable__label-arrow:before {content: \"▸\";float: left;margin-right: 0.25em;color: #696969;}#sk-container-id-3 label.sk-toggleable__label-arrow:hover:before {color: black;}#sk-container-id-3 div.sk-estimator:hover label.sk-toggleable__label-arrow:before {color: black;}#sk-container-id-3 div.sk-toggleable__content {max-height: 0;max-width: 0;overflow: hidden;text-align: left;background-color: #f0f8ff;}#sk-container-id-3 div.sk-toggleable__content pre {margin: 0.2em;color: black;border-radius: 0.25em;background-color: #f0f8ff;}#sk-container-id-3 input.sk-toggleable__control:checked~div.sk-toggleable__content {max-height: 200px;max-width: 100%;overflow: auto;}#sk-container-id-3 input.sk-toggleable__control:checked~label.sk-toggleable__label-arrow:before {content: \"▾\";}#sk-container-id-3 div.sk-estimator input.sk-toggleable__control:checked~label.sk-toggleable__label {background-color: #d4ebff;}#sk-container-id-3 div.sk-label input.sk-toggleable__control:checked~label.sk-toggleable__label {background-color: #d4ebff;}#sk-container-id-3 input.sk-hidden--visually {border: 0;clip: rect(1px 1px 1px 1px);clip: rect(1px, 1px, 1px, 1px);height: 1px;margin: -1px;overflow: hidden;padding: 0;position: absolute;width: 1px;}#sk-container-id-3 div.sk-estimator {font-family: monospace;background-color: #f0f8ff;border: 1px dotted black;border-radius: 0.25em;box-sizing: border-box;margin-bottom: 0.5em;}#sk-container-id-3 div.sk-estimator:hover {background-color: #d4ebff;}#sk-container-id-3 div.sk-parallel-item::after {content: \"\";width: 100%;border-bottom: 1px solid gray;flex-grow: 1;}#sk-container-id-3 div.sk-label:hover label.sk-toggleable__label {background-color: #d4ebff;}#sk-container-id-3 div.sk-serial::before {content: \"\";position: absolute;border-left: 1px solid gray;box-sizing: border-box;top: 0;bottom: 0;left: 50%;z-index: 0;}#sk-container-id-3 div.sk-serial {display: flex;flex-direction: column;align-items: center;background-color: white;padding-right: 0.2em;padding-left: 0.2em;position: relative;}#sk-container-id-3 div.sk-item {position: relative;z-index: 1;}#sk-container-id-3 div.sk-parallel {display: flex;align-items: stretch;justify-content: center;background-color: white;position: relative;}#sk-container-id-3 div.sk-item::before, #sk-container-id-3 div.sk-parallel-item::before {content: \"\";position: absolute;border-left: 1px solid gray;box-sizing: border-box;top: 0;bottom: 0;left: 50%;z-index: -1;}#sk-container-id-3 div.sk-parallel-item {display: flex;flex-direction: column;z-index: 1;position: relative;background-color: white;}#sk-container-id-3 div.sk-parallel-item:first-child::after {align-self: flex-end;width: 50%;}#sk-container-id-3 div.sk-parallel-item:last-child::after {align-self: flex-start;width: 50%;}#sk-container-id-3 div.sk-parallel-item:only-child::after {width: 0;}#sk-container-id-3 div.sk-dashed-wrapped {border: 1px dashed gray;margin: 0 0.4em 0.5em 0.4em;box-sizing: border-box;padding-bottom: 0.4em;background-color: white;}#sk-container-id-3 div.sk-label label {font-family: monospace;font-weight: bold;display: inline-block;line-height: 1.2em;}#sk-container-id-3 div.sk-label-container {text-align: center;}#sk-container-id-3 div.sk-container {/* jupyter's `normalize.less` sets `[hidden] { display: none; }` but bootstrap.min.css set `[hidden] { display: none !important; }` so we also need the `!important` here to be able to override the default hidden behavior on the sphinx rendered scikit-learn.org. See: https://github.com/scikit-learn/scikit-learn/issues/21755 */display: inline-block !important;position: relative;}#sk-container-id-3 div.sk-text-repr-fallback {display: none;}</style><div id=\"sk-container-id-3\" class=\"sk-top-container\"><div class=\"sk-text-repr-fallback\"><pre>LinearRegression()</pre><b>In a Jupyter environment, please rerun this cell to show the HTML representation or trust the notebook. <br />On GitHub, the HTML representation is unable to render, please try loading this page with nbviewer.org.</b></div><div class=\"sk-container\" hidden><div class=\"sk-item\"><div class=\"sk-estimator sk-toggleable\"><input class=\"sk-toggleable__control sk-hidden--visually\" id=\"sk-estimator-id-3\" type=\"checkbox\" checked><label for=\"sk-estimator-id-3\" class=\"sk-toggleable__label sk-toggleable__label-arrow\">LinearRegression</label><div class=\"sk-toggleable__content\"><pre>LinearRegression()</pre></div></div></div></div></div>"
      ],
      "text/plain": [
       "LinearRegression()"
      ]
     },
     "execution_count": 53,
     "metadata": {},
     "output_type": "execute_result"
    }
   ],
   "source": [
    "features_drop = ['log_rect', 'log_revt', 'log_avg_vwretd']\n",
    "w = df_drop[features_drop]\n",
    "z = df_drop['log_recd']\n",
    "\n",
    "lr_many_features = LinearRegression()\n",
    "lr_many_features.fit(w, z)"
   ]
  },
  {
   "cell_type": "code",
   "execution_count": 54,
   "id": "28e79868",
   "metadata": {
    "scrolled": true
   },
   "outputs": [
    {
     "name": "stdout",
     "output_type": "stream",
     "text": [
      "prediction = -0.3410606102589777 +\n",
      "0.47696943610371434 * log_rect +\n",
      "-0.01646738418292031 * log_revt +\n",
      "-0.08041457163836185 * log_avg_vwretd\n"
     ]
    }
   ],
   "source": [
    "print(('prediction = ' +\n",
    "       f'{lr_many_features.intercept_} +\\n' +\n",
    "       ' +\\n'.join([f'{n} * {f}' for f, n in zip(features, lr_many_features.coef_)])))"
   ]
  },
  {
   "cell_type": "code",
   "execution_count": 55,
   "id": "54e4ba27",
   "metadata": {},
   "outputs": [
    {
     "name": "stdout",
     "output_type": "stream",
     "text": [
      "(5002, 3)\n",
      "(5002,)\n"
     ]
    }
   ],
   "source": [
    "print(w.shape)\n",
    "print(z.shape)"
   ]
  },
  {
   "cell_type": "code",
   "execution_count": null,
   "id": "eba18f25",
   "metadata": {},
   "outputs": [],
   "source": [
    "#(1) linear"
   ]
  },
  {
   "cell_type": "code",
   "execution_count": 48,
   "id": "913d2b27",
   "metadata": {},
   "outputs": [],
   "source": [
    "w_train, w_test, z_train, z_test = train_test_split(w, z, test_size=0.2, random_state=42)\n",
    "\n",
    "# Train a linear regression model and make predictions\n",
    "model = LinearRegression()\n",
    "model.fit(w_train, z_train)\n",
    "\n",
    "z_pred = model.predict(w_test)"
   ]
  },
  {
   "cell_type": "code",
   "execution_count": 49,
   "id": "531ee88e",
   "metadata": {},
   "outputs": [
    {
     "name": "stdout",
     "output_type": "stream",
     "text": [
      "MSE: 0.16\n",
      "MAE: 0.19\n",
      "R2 score: 0.91\n"
     ]
    }
   ],
   "source": [
    "# Compute the MSE, MAE, and R2 score for the predictions\n",
    "mse = mean_squared_error(z_test, z_pred)\n",
    "mae = mean_absolute_error(z_test, z_pred)\n",
    "r2 = r2_score(z_test, z_pred)\n",
    "\n",
    "print(f'MSE: {mse:.2f}')\n",
    "print(f'MAE: {mae:.2f}')\n",
    "print(f'R2 score: {r2:.2f}')"
   ]
  },
  {
   "cell_type": "code",
   "execution_count": 50,
   "id": "cee4d459",
   "metadata": {},
   "outputs": [
    {
     "name": "stdout",
     "output_type": "stream",
     "text": [
      "[2.4375129  0.24940174 0.04095832 1.0150817  2.3136939  1.78395813\n",
      " 1.19355259 0.04095832 3.5233276  0.04095832 0.23054904 0.13296929\n",
      " 0.46715198 0.57788716 0.88612229 0.12415293 2.08639809 0.19746535\n",
      " 1.99124954 0.17755981 0.04095832 0.43688271 0.63432704 0.04095832\n",
      " 0.47148801 0.2754948  0.04095832 0.04095832 3.30067305 0.04577321\n",
      " 0.04095832 0.04095832 3.84804793 1.03493697 1.79217557 0.36232943\n",
      " 0.59544009 1.68106255 0.94161494 0.04095832 3.09909668 0.04095832\n",
      " 0.22896124 0.04095832 4.26064533 3.4779963  1.7406266  0.77723126\n",
      " 0.63589211 0.34416682 4.45731348 2.98467931 0.73347871 0.32349703\n",
      " 1.37078115 0.07230164 0.04095832 0.04095832 0.11436103 0.58505657\n",
      " 0.04095832 1.21152184 1.10955315 0.04095832 3.6583518  0.34557614\n",
      " 0.04095832 0.04095832 1.68669574 0.04095832 0.5823054  2.05563236\n",
      " 1.69994427 1.53495121 0.04095832 0.04095832 1.63254783 2.76231494\n",
      " 1.44908268 0.23687427 5.94301246 0.04095832 0.04095832 0.09173026\n",
      " 0.04095832 1.74740822 1.42037194 0.04095832 2.16212491 0.09993858\n",
      " 1.17524251 0.51203346 0.17251862 0.32061098 0.17251862 1.63920824\n",
      " 0.18174078 1.58945756 1.4263667  0.04095832 0.55321862 4.19603613\n",
      " 0.04095832 3.50043203 1.20257902 0.04095832 2.28484653 0.26176872\n",
      " 0.04095832 0.1294524  0.08713974 2.9899266  0.48620826 2.82130512\n",
      " 1.54231747 0.14777476 0.14257519 1.91508655 0.04095832 4.36659546\n",
      " 4.54297023 0.81042446 2.191077   1.10154162 0.5734486  0.87153181\n",
      " 3.10900229 0.84503589 0.2754948  0.17588233 0.04095832 0.04095832\n",
      " 0.13296929 0.48559938 1.93157046 0.04095832 2.09919093 0.11614878\n",
      " 0.04673332 0.04095832 5.7225421  0.69011583 0.299425   0.04095832\n",
      " 0.1615049  0.04095832 1.497466   0.40761654 0.35538419 0.66616708\n",
      " 0.04095832 4.91626483 0.04095832 1.72910497 0.78530234 0.54523548\n",
      " 1.29666917 0.33495574 1.46973935 0.29424072 1.22237218 0.08989667\n",
      " 1.26105395 2.08871566 0.04095832 0.06667803 2.3558493  2.20543895\n",
      " 0.51499204 0.04095832 0.43624189 0.22577777 1.06681417 0.36784988\n",
      " 1.42751529 0.82937952 0.17839745 0.27625167 0.83065846 1.19355259\n",
      " 0.10537228 0.80168394 1.77262401 0.04095832 0.17336065 1.71318423\n",
      " 1.69369131 0.67471703 0.04095832 0.52498393 0.38625169 0.31626566\n",
      " 0.50906578 0.04095832 0.04095832 3.15908704 0.08805959 0.13296929\n",
      " 0.88772992 0.92127414 4.61405744 0.17923437 2.6680548  0.04095832\n",
      " 0.17420194 0.08067611 0.24315832 1.17673207 1.47127641 1.51103631\n",
      " 3.29971613 1.32414237 0.11793322 1.86795757 0.66059412 1.67557388\n",
      " 1.83946415 1.96450732 0.04385014 0.34275544 0.13296929 0.17839745\n",
      " 3.36349067 0.04095832 0.17755981 0.49950744 2.11688825 0.04095832\n",
      " 0.05247398 0.83533345 3.83203311 0.04095832 0.04095832 0.04095832\n",
      " 0.04095832 0.05437997 0.23134196 0.39498826 0.08713974 0.20970106\n",
      " 0.66919336 0.04095832 0.06385389 0.04095832 0.04095832 0.08160214\n",
      " 0.10446879 0.21293789 0.04095832 0.25017933 1.59294551 0.35886306\n",
      " 3.89543066 0.49890689 0.96339428 1.23786373 0.0797492  4.60470534\n",
      " 1.18059421 0.32205508 4.61743587 1.00375326 0.33067465 0.60625078\n",
      " 0.04095832 0.04095832 0.52264219 1.22350726 0.17672143 0.04095832\n",
      " 0.38827485 0.05342744 0.04095832 0.45653982 3.0679159  0.1982859\n",
      " 0.19664409 0.1750425  0.27776362 1.56169038 0.35189274 0.04095832\n",
      " 0.24472297 0.04095832 1.03872212 0.04095832 0.62224316 1.44908268\n",
      " 0.83533345 5.02143044 0.22816635 0.13296929 0.2007434  0.31262955\n",
      " 0.10537228 0.88289896 1.25475943 0.38692655 0.41616273 0.57622509\n",
      " 0.78530234 0.04095832 2.36267059 1.19880401 6.72587193 1.22831651\n",
      " 0.13296929 2.93299188 0.04095832 0.94464836 1.63588378 1.5273213\n",
      " 0.26483587 0.4727233  4.18290145 0.75491187 1.22237218 0.04095832\n",
      " 1.00125735 4.46721495 0.14344373 0.04095832 0.19252731 2.83127847\n",
      " 0.04095832 0.99947059 2.75089974 0.99768052 0.08713974 0.04095832\n",
      " 1.19355259 0.04095832 0.71059445 0.04095832 2.20748795 1.26676549\n",
      " 3.62885165 0.83787394 4.4925509  3.22270821 0.04095832 0.08805959\n",
      " 0.04095832 3.6875517  0.10084632 0.07416892 0.31844076 1.19938574\n",
      " 1.32745853 0.69355924 0.14431149 0.04095832 0.56954805 2.21584366\n",
      " 1.36687764 0.04481215 1.37926544 0.08160214 0.0852974  0.92630321\n",
      " 0.15466424 0.04095832 1.97315613 0.04095832 1.12475139 0.71636657\n",
      " 0.04095832 0.13647341 0.57788716 0.24550434 2.76622409 0.72685998\n",
      " 0.04095832 1.44141907 2.24699102 0.2509563  0.25328347 0.71011188\n",
      " 2.57253158 2.07718889 0.99732211 0.3644033  1.37563844 2.79019208\n",
      " 0.17167586 0.33424354 0.10084632 0.21051128 2.70224674 0.51794158\n",
      " 0.38692655 0.45087403 1.08956117 0.04095832 2.08395863 1.10025358\n",
      " 1.14772303 4.11440574 0.04095832 0.11346591 0.13296929 1.7406266\n",
      " 0.17083236 0.04095832 0.45339626 2.36083883 0.91426729 1.62471884\n",
      " 0.44263096 3.75705037 0.8649757  0.0797492  4.82795261 0.54637997\n",
      " 0.49348506 1.3461212  0.70235774 0.6457457  4.01226633 0.04095832\n",
      " 1.60045976 0.31916471 1.4679797  0.76727409 0.20156117 0.29646596\n",
      " 0.40761654 0.75950895 1.22944462 0.04095832 1.35110384 1.00197112\n",
      " 2.82767839 0.22098281 2.72652109 0.88732826 1.14156819 4.61321098\n",
      " 0.10175322 0.49227606 0.47148801 0.75491187 0.63797492 0.32637449\n",
      " 0.04095832 0.04095832 1.56169038 0.04095832 0.1294524  1.90561919\n",
      " 1.73879901 0.04095832 0.53255562 2.34614686 0.04095832 1.01578534\n",
      " 0.04095832 3.5538971  0.35955733 0.21696873 1.23450489 3.75762579\n",
      " 0.04288716 0.04095832 1.83676335 1.94670558 1.39006537 0.04095832\n",
      " 3.99357518 1.56964908 0.50130685 0.83829671 0.11971438 0.20889015\n",
      " 0.04095832 0.24628508 2.30170139 0.21777288 0.04095832 0.22098281\n",
      " 1.21895891 0.04095832 1.55447102 3.85193128 4.88264272 0.75445096\n",
      " 1.59468477 0.04385014 1.69473629 0.13296929 0.61959609 0.04095832\n",
      " 0.04095832 3.81756477 0.16745097 0.04095832 0.43944171 0.29424072\n",
      " 0.41485284 0.74518616 0.36922507 3.63418942 0.04095832 0.43560065\n",
      " 2.63300249 3.10900229 0.31916471 4.41665971 5.10635413 0.79904627\n",
      " 0.22577777 0.04095832 0.45465491 0.04095832 3.67196269 0.04095832\n",
      " 0.04095832 0.15036408 1.13909522 0.04095832 3.93295114 0.23371683\n",
      " 0.04095832 0.08067611 3.14841121 2.16233942 1.12788779 2.06966332\n",
      " 0.41942968 0.83618103 0.24706519 2.96484907 0.26560114 1.24065386\n",
      " 1.34387059 6.34717272 0.04095832 4.61541023 0.04095832 0.07882139\n",
      " 0.04095832 1.1331964  0.04095832 2.35127484 0.9998282  0.14604468\n",
      " 0.04673332 0.04095832 2.27630745 0.16065246 0.33566741 1.22237218\n",
      " 0.36578341 0.96561952 1.12191988 3.14841121 1.24093243 0.24159114\n",
      " 0.35049262 0.32924339 0.0797492  0.04095832 2.5414656  0.16829743\n",
      " 0.35816829 0.53776298 0.06949393 2.54045131 0.23292586 0.04095832\n",
      " 4.48671833 3.60214544 0.04095832 0.84587499 1.34512158 0.34416682\n",
      " 0.04095832 0.79419176 3.30268279 1.61380192 0.43944171 0.54064386\n",
      " 0.92475859 0.1615049  0.53660821 0.11436103 5.39795047 0.21777288\n",
      " 1.10923396 0.04095832 1.53289501 0.04095832 0.09629905 0.04095832\n",
      " 0.04673332 0.27851872 1.03700343 0.04095832 3.56235934 2.17311046\n",
      " 0.79153352 5.6540057  0.11525532 0.08252728 0.93015397 1.13007723\n",
      " 0.17420194 2.91112139 0.75767274 1.59352561 1.40451503 0.04095832\n",
      " 4.02742294 0.15466424 0.29424072 0.68418411 1.27298247 1.17762471\n",
      " 1.57024335 0.5594451  0.965249   0.04192322 0.04095832 0.21696873\n",
      " 0.06007547 0.11525532 0.04095832 0.04095832 2.04841899 0.04095832\n",
      " 0.33779929 0.04095832 0.04095832 0.10356444 0.65089169 2.98467931\n",
      " 0.17755981 5.34783943 2.02335854 0.92514498 0.04095832 0.08805959\n",
      " 3.89028727 0.04095832 0.04095832 0.80212285 0.08067611 0.04095832\n",
      " 1.47346797 0.04095832 0.04095832 0.05723192 0.68020928 0.31408564\n",
      " 0.15894533 0.04095832 0.04095832 1.55768629 1.19355259 0.13121245\n",
      " 0.89053686 1.19355259 1.87202235 0.33067465 0.26100041 1.51418945\n",
      " 0.0760326  4.42227991 0.04095832 0.14431149 0.09538702 1.30400257\n",
      " 0.1750425  2.62347167 0.04095832 0.04673332 0.42722556 0.51676285\n",
      " 2.31433544 2.0407865  0.13822072 0.04095832 1.20518387 0.04095832\n",
      " 0.80343839 0.24159114 0.63589211 1.61625957 0.04095832 0.04095832\n",
      " 0.29126573 0.04095832 1.28689238 1.53536192 0.27700794 0.42268562\n",
      " 0.07882139 1.16142962 4.22178125 0.06855621 0.19252731 0.65037832\n",
      " 0.09356037 2.77609862 0.66211721 0.50429844 0.04095832 3.50187902\n",
      " 0.15809063 1.21553353 3.57770402 0.07510121 0.26330351 1.06881358\n",
      " 0.04095832 0.04095832 1.54800817 0.10084632 2.40770308 0.57122165\n",
      " 0.48742487 0.56282451 0.50847115 0.2754948  2.8681096  1.61133799\n",
      " 0.04095832 0.04095832 0.13647341 1.90561919 0.16320752 0.3726545\n",
      " 0.42916473 0.04095832 4.48671833 0.07510121 1.41177623 0.04095832\n",
      " 1.10121977 0.83023233 0.04095832 0.04095832 0.04095832 1.69734379\n",
      " 0.15466424 1.18325898 0.04095832 0.04095832 1.10154162 3.40314802\n",
      " 0.23608588 1.34886483 0.65601039 0.33138948 0.89612636 3.36543561\n",
      " 0.11614878 0.04095832 0.36232943 2.65796736 0.39565704 4.97657358\n",
      " 2.42533993 0.29424072 0.04095832 0.04095832 0.04095832 0.50370087\n",
      " 0.79816545 0.04095832 0.14344373 3.43063288 0.09812053 0.04769247\n",
      " 1.5156574  0.04095832 0.16320752 0.04095832 0.04095832 1.14403484\n",
      " 1.25530841 0.45087403 0.04095832 0.88249529 0.94009465 0.04095832\n",
      " 0.04960791 2.44961392 5.1053374  2.50313319 0.95855525 2.29434019\n",
      " 1.38958793 0.04095832 1.66844529 1.3436202  0.20889015 0.34768627\n",
      " 0.41288468 0.10084632 0.21293789 3.32374561 0.50370087 0.04095832\n",
      " 0.04481215 1.96279459 0.04769247 0.34909046 0.94085509 0.56787155\n",
      " 0.04095832 0.91152861 4.63828732 0.0760326  2.20184271 1.99737575\n",
      " 0.32349703 1.24343595 0.33850887 0.74332248 1.60810641 1.18355461\n",
      " 0.04095832 0.59706943 1.39363867 3.4396138  0.10446879 0.16914315\n",
      " 0.81519823 1.77615024 2.92645344 0.75721315 4.64650341 4.65319693\n",
      " 0.05342744 1.65873743 0.7821716 ]\n"
     ]
    }
   ],
   "source": [
    "print(z_pred)"
   ]
  },
  {
   "cell_type": "code",
   "execution_count": 51,
   "id": "f609f669",
   "metadata": {
    "scrolled": true
   },
   "outputs": [
    {
     "name": "stdout",
     "output_type": "stream",
     "text": [
      "      log_recd_LAG1  log_recd  recd_pred\n",
      "3013       2.482487  2.589117        NaN\n",
      "3663       0.215918  0.279146        NaN\n",
      "2948       0.000000  0.000000        NaN\n",
      "96         1.009052  0.932951   0.181741\n",
      "2282       2.354228  2.065089        NaN\n",
      "...             ...       ...        ...\n",
      "832             NaN       NaN   4.646503\n",
      "833             NaN       NaN   4.653197\n",
      "834             NaN       NaN   0.053427\n",
      "835             NaN       NaN   1.658737\n",
      "836             NaN       NaN   0.782172\n",
      "\n",
      "[1484 rows x 3 columns]\n"
     ]
    }
   ],
   "source": [
    "# Concatenate the X_test and y_test dataframes with the predicted values\n",
    "results = pd.concat([w_test, z_test, pd.Series(z_pred, name='recd_pred')], axis=1)\n",
    "\n",
    "# Print out the results dataframe\n",
    "print(results)"
   ]
  },
  {
   "cell_type": "code",
   "execution_count": 102,
   "id": "6983b534",
   "metadata": {},
   "outputs": [
    {
     "name": "stdout",
     "output_type": "stream",
     "text": [
      "Mean Absolute Percentage Error (MAPE): 491.69456999863075\n"
     ]
    }
   ],
   "source": [
    "# Filter out instances with zero actual values\n",
    "non_zero_indices = z_test != 0\n",
    "z_test_non_zero = z_test[non_zero_indices]\n",
    "z_pred_non_zero = z_pred[non_zero_indices]\n",
    "\n",
    "# Calculate MAPE for non-zero instances\n",
    "mape = np.mean(np.abs((z_test_non_zero - z_pred_non_zero) / z_test_non_zero)) * 100\n",
    "\n",
    "print(\"Mean Absolute Percentage Error (MAPE):\", mape)"
   ]
  },
  {
   "cell_type": "code",
   "execution_count": 98,
   "id": "09afca75",
   "metadata": {
    "scrolled": true
   },
   "outputs": [
    {
     "data": {
      "image/png": "[encoded data removed]",
      "text/plain": [
       "<Figure size 640x480 with 1 Axes>"
      ]
     },
     "metadata": {},
     "output_type": "display_data"
    }
   ],
   "source": [
    "# Plot the actual vs. predicted values\n",
    "plt.scatter(z_test, z_pred, color='blue')\n",
    "plt.plot([z_test.min(), z_test.max()], [z_test.min(), z_test.max()], 'k--', lw=2)\n",
    "plt.xlabel('Log of Actual Doubtful Receivables (Millions of USD)')\n",
    "plt.ylabel('Log of Predicted Doubtful Receivables (Millions of USD)')\n",
    "plt.title('Linear Regression')\n",
    "\n",
    "# Compute the evaluation metrics\n",
    "mse = mean_squared_error(z_test, z_pred)\n",
    "mae = mean_absolute_error(z_test, z_pred)\n",
    "r2 = r2_score(z_test, z_pred)\n",
    "\n",
    "# Add text to the plot to display the evaluation metrics with units\n",
    "plt.text(z_test.min(), z_test.max()*0.9, f'MSE: {mse:.2f} (Millions of USD)^2')\n",
    "plt.text(z_test.min(), z_test.max()*0.8, f'MAE: {mae:.2f} Millions of USD')\n",
    "plt.text(z_test.min(), z_test.max()*0.7, f'R2 score: {r2:.2f}')\n",
    "\n",
    "# Show the plot\n",
    "plt.show()"
   ]
  },
  {
   "cell_type": "code",
   "execution_count": null,
   "id": "00a64040",
   "metadata": {},
   "outputs": [],
   "source": [
    "# (1-2) histrogram"
   ]
  },
  {
   "cell_type": "code",
   "execution_count": 48,
   "id": "061b97c6",
   "metadata": {},
   "outputs": [
    {
     "data": {
      "image/png": "[encoded data removed]",
      "text/plain": [
       "<Figure size 640x480 with 1 Axes>"
      ]
     },
     "metadata": {},
     "output_type": "display_data"
    }
   ],
   "source": [
    "import matplotlib.pyplot as plt\n",
    "\n",
    "# Create a histogram or density plot\n",
    "plt.hist(z_test, bins=30, density=True, alpha=0.5, color='blue', label='Actual')\n",
    "plt.hist(z_pred, bins=30, density=True, alpha=0.5, color='green', label='Predicted')\n",
    "plt.xlabel('Doubtful Receivables')\n",
    "plt.ylabel('Density')\n",
    "plt.title('Distribution of Actual vs. Predicted Doubtful Receivables')\n",
    "plt.legend()\n",
    "\n",
    "# Show the plot\n",
    "plt.show()"
   ]
  },
  {
   "cell_type": "code",
   "execution_count": null,
   "id": "f57da081",
   "metadata": {},
   "outputs": [],
   "source": [
    "#(2) Ridge"
   ]
  },
  {
   "cell_type": "code",
   "execution_count": 62,
   "id": "3b93f236",
   "metadata": {},
   "outputs": [],
   "source": [
    "from sklearn.linear_model import Ridge\n",
    "\n",
    "# Create a Ridge regression object\n",
    "model = Ridge(alpha=1.0)\n",
    "\n",
    "# Fit the model to the training data\n",
    "model.fit(w_train, z_train)\n",
    "\n",
    "# Make predictions on the test set\n",
    "z_pred = model.predict(w_test)\n"
   ]
  },
  {
   "cell_type": "code",
   "execution_count": 63,
   "id": "fa9c0565",
   "metadata": {},
   "outputs": [],
   "source": [
    "from sklearn.preprocessing import StandardScaler\n",
    "\n",
    "# Create a StandardScaler object\n",
    "scaler = StandardScaler()\n",
    "\n",
    "# Fit the scaler to the training data\n",
    "scaler.fit(w_train)\n",
    "\n",
    "# Transform the training and test sets\n",
    "w_train_scaled = scaler.transform(w_train)\n",
    "w_test_scaled = scaler.transform(w_test)\n",
    "\n",
    "# Create a Ridge regression object\n",
    "model = Ridge(alpha=1.0)\n",
    "\n",
    "# Fit the model to the training data\n",
    "model.fit(w_train_scaled, z_train)\n",
    "\n",
    "# Make predictions on the test set\n",
    "z_pred = model.predict(w_test_scaled)"
   ]
  },
  {
   "cell_type": "code",
   "execution_count": 64,
   "id": "085c371b",
   "metadata": {},
   "outputs": [
    {
     "name": "stdout",
     "output_type": "stream",
     "text": [
      "Mean squared error: 0.54\n",
      "R-squared: 0.64\n"
     ]
    }
   ],
   "source": [
    "from sklearn.metrics import mean_squared_error, r2_score\n",
    "\n",
    "# Calculate the mean squared error (MSE)\n",
    "mse = mean_squared_error(z_test, z_pred)\n",
    "\n",
    "# Calculate the coefficient of determination (R-squared)\n",
    "r2 = r2_score(z_test, z_pred)\n",
    "\n",
    "# Print out the results\n",
    "print(f'Mean squared error: {mse:.2f}')\n",
    "print(f'R-squared: {r2:.2f}')"
   ]
  },
  {
   "cell_type": "code",
   "execution_count": null,
   "id": "16f9f4bc",
   "metadata": {},
   "outputs": [],
   "source": [
    "#(3) Randomforest"
   ]
  },
  {
   "cell_type": "code",
   "execution_count": 103,
   "id": "af218edc",
   "metadata": {},
   "outputs": [
    {
     "name": "stdout",
     "output_type": "stream",
     "text": [
      "Mean squared error: 0.55\n",
      "R-squared: 0.02\n"
     ]
    }
   ],
   "source": [
    "from sklearn.ensemble import RandomForestRegressor\n",
    "from sklearn.metrics import mean_squared_error, r2_score\n",
    "\n",
    "# Split the data into training and test sets\n",
    "w_train, w_test, z_train, z_test = train_test_split(w, z, test_size=0.2, random_state=42)\n",
    "\n",
    "# Create a random forest regression model and fit it to the training data\n",
    "rf = RandomForestRegressor(n_estimators=10, random_state=42)\n",
    "rf.fit(w_train, z_train)\n",
    "\n",
    "# Make predictions on the test data\n",
    "z_pred = rf.predict(w_test)\n",
    "\n",
    "# Calculate the mean squared error (MSE) and R-squared for the predictions\n",
    "mse = mean_squared_error(z_test, z_pred)\n",
    "r2 = r2_score(z_test, z_pred)\n",
    "\n",
    "# Print out the results\n",
    "print(f'Mean squared error: {mse:.2f}')\n",
    "print(f'R-squared: {r2:.2f}')\n"
   ]
  },
  {
   "cell_type": "code",
   "execution_count": 104,
   "id": "597a9607",
   "metadata": {},
   "outputs": [
    {
     "data": {
      "image/png": "[encoded data removed]",
      "text/plain": [
       "<Figure size 640x480 with 1 Axes>"
      ]
     },
     "metadata": {},
     "output_type": "display_data"
    }
   ],
   "source": [
    "import matplotlib.pyplot as plt\n",
    "\n",
    "# Create a scatter plot of the predicted versus actual values\n",
    "plt.scatter(y_test, y_pred, color='yellow', alpha=0.5)\n",
    "\n",
    "# Add a line representing perfect predictions\n",
    "plt.plot([z_test.min(), z_test.max()], [z_test.min(), z_test.max()], 'r--')\n",
    "\n",
    "# Set the plot title and axes labels\n",
    "plt.title('Random Forest Regression')\n",
    "plt.xlabel('Log of Actual Doubtful Receivables (Millons of USD)')\n",
    "plt.ylabel('Log of Predicted Doubtful Receivables (Millons of USD)')\n",
    "\n",
    "# Add text to the plot to display the evaluation metrics with units\n",
    "plt.text(z_test.min(), z_test.max()*0.9, f'MSE: {mse:.2f} (Millions of USD)^2')\n",
    "plt.text(z_test.min(), z_test.max()*0.8, f'MAE: {mae:.2f} Millions of USD')\n",
    "plt.text(z_test.min(), z_test.max()*0.7, f'R2 score: {r2:.2f}')\n",
    "\n",
    "# Show the plot\n",
    "plt.show()"
   ]
  },
  {
   "cell_type": "code",
   "execution_count": 105,
   "id": "04b4c834",
   "metadata": {},
   "outputs": [
    {
     "name": "stdout",
     "output_type": "stream",
     "text": [
      "Mean Absolute Percentage Error (MAPE): 124.93212195433266\n"
     ]
    }
   ],
   "source": [
    "# Filter out instances with zero actual values\n",
    "non_zero_indices = z_test != 0\n",
    "z_test_non_zero = z_test[non_zero_indices]\n",
    "z_pred_non_zero = z_pred[non_zero_indices]\n",
    "\n",
    "# Calculate MAPE for non-zero instances\n",
    "mape = np.mean(np.abs((z_test_non_zero - z_pred_non_zero) / z_test_non_zero)) * 100\n",
    "\n",
    "print(\"Mean Absolute Percentage Error (MAPE):\", mape)"
   ]
  },
  {
   "cell_type": "code",
   "execution_count": null,
   "id": "245c2972",
   "metadata": {},
   "outputs": [],
   "source": [
    "#how does your model compare to one that just uses last year's bad debt numbers?"
   ]
  },
  {
   "cell_type": "code",
   "execution_count": 57,
   "id": "f2a5a4ea",
   "metadata": {},
   "outputs": [
    {
     "data": {
      "text/html": [
       "<div>\n",
       "<style scoped>\n",
       "    .dataframe tbody tr th:only-of-type {\n",
       "        vertical-align: middle;\n",
       "    }\n",
       "\n",
       "    .dataframe tbody tr th {\n",
       "        vertical-align: top;\n",
       "    }\n",
       "\n",
       "    .dataframe thead th {\n",
       "        text-align: right;\n",
       "    }\n",
       "</style>\n",
       "<table border=\"1\" class=\"dataframe\">\n",
       "  <thead>\n",
       "    <tr style=\"text-align: right;\">\n",
       "      <th></th>\n",
       "      <th>conm</th>\n",
       "      <th>rect</th>\n",
       "      <th>revt</th>\n",
       "      <th>GVKEY</th>\n",
       "      <th>YEAR</th>\n",
       "      <th>recd</th>\n",
       "      <th>avg_vwretd</th>\n",
       "      <th>log_revt</th>\n",
       "      <th>log_rect</th>\n",
       "      <th>log_recd</th>\n",
       "      <th>log_avg_vwretd</th>\n",
       "      <th>log_recd_LAG1</th>\n",
       "    </tr>\n",
       "  </thead>\n",
       "  <tbody>\n",
       "    <tr>\n",
       "      <th>0</th>\n",
       "      <td>ALBERTO-CULVER CO</td>\n",
       "      <td>169.657</td>\n",
       "      <td>2494.180</td>\n",
       "      <td>1239</td>\n",
       "      <td>2001</td>\n",
       "      <td>11.387</td>\n",
       "      <td>0.000000</td>\n",
       "      <td>7.822116</td>\n",
       "      <td>5.139656</td>\n",
       "      <td>2.516648</td>\n",
       "      <td>0.000000</td>\n",
       "      <td>2.410093</td>\n",
       "    </tr>\n",
       "    <tr>\n",
       "      <th>1</th>\n",
       "      <td>ALBERTO-CULVER CO</td>\n",
       "      <td>209.010</td>\n",
       "      <td>2650.976</td>\n",
       "      <td>1239</td>\n",
       "      <td>2002</td>\n",
       "      <td>17.550</td>\n",
       "      <td>0.000000</td>\n",
       "      <td>7.883060</td>\n",
       "      <td>5.347155</td>\n",
       "      <td>2.920470</td>\n",
       "      <td>0.000000</td>\n",
       "      <td>2.516648</td>\n",
       "    </tr>\n",
       "    <tr>\n",
       "      <th>2</th>\n",
       "      <td>ALBERTO-CULVER CO</td>\n",
       "      <td>226.054</td>\n",
       "      <td>2891.417</td>\n",
       "      <td>1239</td>\n",
       "      <td>2003</td>\n",
       "      <td>19.111</td>\n",
       "      <td>2.462588</td>\n",
       "      <td>7.969848</td>\n",
       "      <td>5.425188</td>\n",
       "      <td>3.001267</td>\n",
       "      <td>1.242016</td>\n",
       "      <td>2.920470</td>\n",
       "    </tr>\n",
       "    <tr>\n",
       "      <th>3</th>\n",
       "      <td>ALBERTO-CULVER CO</td>\n",
       "      <td>250.008</td>\n",
       "      <td>3257.996</td>\n",
       "      <td>1239</td>\n",
       "      <td>2004</td>\n",
       "      <td>12.860</td>\n",
       "      <td>1.050260</td>\n",
       "      <td>8.089174</td>\n",
       "      <td>5.525485</td>\n",
       "      <td>2.629007</td>\n",
       "      <td>0.717967</td>\n",
       "      <td>3.001267</td>\n",
       "    </tr>\n",
       "    <tr>\n",
       "      <th>4</th>\n",
       "      <td>ALBERTO-CULVER CO</td>\n",
       "      <td>285.940</td>\n",
       "      <td>3531.231</td>\n",
       "      <td>1239</td>\n",
       "      <td>2005</td>\n",
       "      <td>6.139</td>\n",
       "      <td>0.619588</td>\n",
       "      <td>8.169685</td>\n",
       "      <td>5.659273</td>\n",
       "      <td>1.965573</td>\n",
       "      <td>0.482172</td>\n",
       "      <td>2.629007</td>\n",
       "    </tr>\n",
       "    <tr>\n",
       "      <th>...</th>\n",
       "      <td>...</td>\n",
       "      <td>...</td>\n",
       "      <td>...</td>\n",
       "      <td>...</td>\n",
       "      <td>...</td>\n",
       "      <td>...</td>\n",
       "      <td>...</td>\n",
       "      <td>...</td>\n",
       "      <td>...</td>\n",
       "      <td>...</td>\n",
       "      <td>...</td>\n",
       "      <td>...</td>\n",
       "    </tr>\n",
       "    <tr>\n",
       "      <th>4180</th>\n",
       "      <td>COASTAL CONTACTS INC</td>\n",
       "      <td>7.059</td>\n",
       "      <td>217.550</td>\n",
       "      <td>266196</td>\n",
       "      <td>2013</td>\n",
       "      <td>0.408</td>\n",
       "      <td>2.269183</td>\n",
       "      <td>5.387015</td>\n",
       "      <td>2.086789</td>\n",
       "      <td>0.342170</td>\n",
       "      <td>1.184540</td>\n",
       "      <td>0.592774</td>\n",
       "    </tr>\n",
       "    <tr>\n",
       "      <th>4181</th>\n",
       "      <td>PEPPER FOOD SERVICE CO LTD</td>\n",
       "      <td>43.003</td>\n",
       "      <td>447.390</td>\n",
       "      <td>279170</td>\n",
       "      <td>2018</td>\n",
       "      <td>0.004</td>\n",
       "      <td>0.000000</td>\n",
       "      <td>6.105663</td>\n",
       "      <td>3.784258</td>\n",
       "      <td>0.003992</td>\n",
       "      <td>0.000000</td>\n",
       "      <td>0.003992</td>\n",
       "    </tr>\n",
       "    <tr>\n",
       "      <th>4182</th>\n",
       "      <td>ARKO CORP</td>\n",
       "      <td>92.864</td>\n",
       "      <td>3910.715</td>\n",
       "      <td>312066</td>\n",
       "      <td>2020</td>\n",
       "      <td>0.569</td>\n",
       "      <td>1.873544</td>\n",
       "      <td>8.271731</td>\n",
       "      <td>4.541847</td>\n",
       "      <td>0.450438</td>\n",
       "      <td>1.055546</td>\n",
       "      <td>0.324978</td>\n",
       "    </tr>\n",
       "    <tr>\n",
       "      <th>4183</th>\n",
       "      <td>ARKO CORP</td>\n",
       "      <td>62.342</td>\n",
       "      <td>7417.398</td>\n",
       "      <td>312066</td>\n",
       "      <td>2021</td>\n",
       "      <td>1.100</td>\n",
       "      <td>1.785232</td>\n",
       "      <td>8.911718</td>\n",
       "      <td>4.148549</td>\n",
       "      <td>0.741937</td>\n",
       "      <td>1.024331</td>\n",
       "      <td>0.450438</td>\n",
       "    </tr>\n",
       "    <tr>\n",
       "      <th>4184</th>\n",
       "      <td>JUST EAT TAKEAWAY.COM N.V.</td>\n",
       "      <td>215.000</td>\n",
       "      <td>2461.000</td>\n",
       "      <td>322576</td>\n",
       "      <td>2020</td>\n",
       "      <td>7.000</td>\n",
       "      <td>1.873544</td>\n",
       "      <td>7.808729</td>\n",
       "      <td>5.375278</td>\n",
       "      <td>2.079442</td>\n",
       "      <td>1.055546</td>\n",
       "      <td>1.098612</td>\n",
       "    </tr>\n",
       "  </tbody>\n",
       "</table>\n",
       "<p>4185 rows × 12 columns</p>\n",
       "</div>"
      ],
      "text/plain": [
       "                            conm     rect      revt   GVKEY  YEAR    recd  \\\n",
       "0              ALBERTO-CULVER CO  169.657  2494.180    1239  2001  11.387   \n",
       "1              ALBERTO-CULVER CO  209.010  2650.976    1239  2002  17.550   \n",
       "2              ALBERTO-CULVER CO  226.054  2891.417    1239  2003  19.111   \n",
       "3              ALBERTO-CULVER CO  250.008  3257.996    1239  2004  12.860   \n",
       "4              ALBERTO-CULVER CO  285.940  3531.231    1239  2005   6.139   \n",
       "...                          ...      ...       ...     ...   ...     ...   \n",
       "4180        COASTAL CONTACTS INC    7.059   217.550  266196  2013   0.408   \n",
       "4181  PEPPER FOOD SERVICE CO LTD   43.003   447.390  279170  2018   0.004   \n",
       "4182                   ARKO CORP   92.864  3910.715  312066  2020   0.569   \n",
       "4183                   ARKO CORP   62.342  7417.398  312066  2021   1.100   \n",
       "4184  JUST EAT TAKEAWAY.COM N.V.  215.000  2461.000  322576  2020   7.000   \n",
       "\n",
       "      avg_vwretd  log_revt  log_rect  log_recd  log_avg_vwretd  log_recd_LAG1  \n",
       "0       0.000000  7.822116  5.139656  2.516648        0.000000       2.410093  \n",
       "1       0.000000  7.883060  5.347155  2.920470        0.000000       2.516648  \n",
       "2       2.462588  7.969848  5.425188  3.001267        1.242016       2.920470  \n",
       "3       1.050260  8.089174  5.525485  2.629007        0.717967       3.001267  \n",
       "4       0.619588  8.169685  5.659273  1.965573        0.482172       2.629007  \n",
       "...          ...       ...       ...       ...             ...            ...  \n",
       "4180    2.269183  5.387015  2.086789  0.342170        1.184540       0.592774  \n",
       "4181    0.000000  6.105663  3.784258  0.003992        0.000000       0.003992  \n",
       "4182    1.873544  8.271731  4.541847  0.450438        1.055546       0.324978  \n",
       "4183    1.785232  8.911718  4.148549  0.741937        1.024331       0.450438  \n",
       "4184    1.873544  7.808729  5.375278  2.079442        1.055546       1.098612  \n",
       "\n",
       "[4185 rows x 12 columns]"
      ]
     },
     "execution_count": 57,
     "metadata": {},
     "output_type": "execute_result"
    }
   ],
   "source": [
    "import pandas as pd\n",
    "df_ly = pd.read_csv(\"capstone_03.csv\")\n",
    "df_ly"
   ]
  },
  {
   "cell_type": "code",
   "execution_count": 58,
   "id": "f73b1185",
   "metadata": {},
   "outputs": [],
   "source": [
    "from sklearn.model_selection import train_test_split\n",
    "\n",
    "X = df_ly['log_recd_LAG1'].values.reshape(-1, 1)  # Input feature\n",
    "y = df_ly['log_recd'].values  # Target variable\n",
    "\n",
    "X_train, X_test, y_train, y_test = train_test_split(X, y, test_size=0.2, random_state=42)"
   ]
  },
  {
   "cell_type": "code",
   "execution_count": 59,
   "id": "4059dcc8",
   "metadata": {},
   "outputs": [
    {
     "data": {
      "text/html": [
       "<style>#sk-container-id-6 {color: black;background-color: white;}#sk-container-id-6 pre{padding: 0;}#sk-container-id-6 div.sk-toggleable {background-color: white;}#sk-container-id-6 label.sk-toggleable__label {cursor: pointer;display: block;width: 100%;margin-bottom: 0;padding: 0.3em;box-sizing: border-box;text-align: center;}#sk-container-id-6 label.sk-toggleable__label-arrow:before {content: \"▸\";float: left;margin-right: 0.25em;color: #696969;}#sk-container-id-6 label.sk-toggleable__label-arrow:hover:before {color: black;}#sk-container-id-6 div.sk-estimator:hover label.sk-toggleable__label-arrow:before {color: black;}#sk-container-id-6 div.sk-toggleable__content {max-height: 0;max-width: 0;overflow: hidden;text-align: left;background-color: #f0f8ff;}#sk-container-id-6 div.sk-toggleable__content pre {margin: 0.2em;color: black;border-radius: 0.25em;background-color: #f0f8ff;}#sk-container-id-6 input.sk-toggleable__control:checked~div.sk-toggleable__content {max-height: 200px;max-width: 100%;overflow: auto;}#sk-container-id-6 input.sk-toggleable__control:checked~label.sk-toggleable__label-arrow:before {content: \"▾\";}#sk-container-id-6 div.sk-estimator input.sk-toggleable__control:checked~label.sk-toggleable__label {background-color: #d4ebff;}#sk-container-id-6 div.sk-label input.sk-toggleable__control:checked~label.sk-toggleable__label {background-color: #d4ebff;}#sk-container-id-6 input.sk-hidden--visually {border: 0;clip: rect(1px 1px 1px 1px);clip: rect(1px, 1px, 1px, 1px);height: 1px;margin: -1px;overflow: hidden;padding: 0;position: absolute;width: 1px;}#sk-container-id-6 div.sk-estimator {font-family: monospace;background-color: #f0f8ff;border: 1px dotted black;border-radius: 0.25em;box-sizing: border-box;margin-bottom: 0.5em;}#sk-container-id-6 div.sk-estimator:hover {background-color: #d4ebff;}#sk-container-id-6 div.sk-parallel-item::after {content: \"\";width: 100%;border-bottom: 1px solid gray;flex-grow: 1;}#sk-container-id-6 div.sk-label:hover label.sk-toggleable__label {background-color: #d4ebff;}#sk-container-id-6 div.sk-serial::before {content: \"\";position: absolute;border-left: 1px solid gray;box-sizing: border-box;top: 0;bottom: 0;left: 50%;z-index: 0;}#sk-container-id-6 div.sk-serial {display: flex;flex-direction: column;align-items: center;background-color: white;padding-right: 0.2em;padding-left: 0.2em;position: relative;}#sk-container-id-6 div.sk-item {position: relative;z-index: 1;}#sk-container-id-6 div.sk-parallel {display: flex;align-items: stretch;justify-content: center;background-color: white;position: relative;}#sk-container-id-6 div.sk-item::before, #sk-container-id-6 div.sk-parallel-item::before {content: \"\";position: absolute;border-left: 1px solid gray;box-sizing: border-box;top: 0;bottom: 0;left: 50%;z-index: -1;}#sk-container-id-6 div.sk-parallel-item {display: flex;flex-direction: column;z-index: 1;position: relative;background-color: white;}#sk-container-id-6 div.sk-parallel-item:first-child::after {align-self: flex-end;width: 50%;}#sk-container-id-6 div.sk-parallel-item:last-child::after {align-self: flex-start;width: 50%;}#sk-container-id-6 div.sk-parallel-item:only-child::after {width: 0;}#sk-container-id-6 div.sk-dashed-wrapped {border: 1px dashed gray;margin: 0 0.4em 0.5em 0.4em;box-sizing: border-box;padding-bottom: 0.4em;background-color: white;}#sk-container-id-6 div.sk-label label {font-family: monospace;font-weight: bold;display: inline-block;line-height: 1.2em;}#sk-container-id-6 div.sk-label-container {text-align: center;}#sk-container-id-6 div.sk-container {/* jupyter's `normalize.less` sets `[hidden] { display: none; }` but bootstrap.min.css set `[hidden] { display: none !important; }` so we also need the `!important` here to be able to override the default hidden behavior on the sphinx rendered scikit-learn.org. See: https://github.com/scikit-learn/scikit-learn/issues/21755 */display: inline-block !important;position: relative;}#sk-container-id-6 div.sk-text-repr-fallback {display: none;}</style><div id=\"sk-container-id-6\" class=\"sk-top-container\"><div class=\"sk-text-repr-fallback\"><pre>LinearRegression()</pre><b>In a Jupyter environment, please rerun this cell to show the HTML representation or trust the notebook. <br />On GitHub, the HTML representation is unable to render, please try loading this page with nbviewer.org.</b></div><div class=\"sk-container\" hidden><div class=\"sk-item\"><div class=\"sk-estimator sk-toggleable\"><input class=\"sk-toggleable__control sk-hidden--visually\" id=\"sk-estimator-id-6\" type=\"checkbox\" checked><label for=\"sk-estimator-id-6\" class=\"sk-toggleable__label sk-toggleable__label-arrow\">LinearRegression</label><div class=\"sk-toggleable__content\"><pre>LinearRegression()</pre></div></div></div></div></div>"
      ],
      "text/plain": [
       "LinearRegression()"
      ]
     },
     "execution_count": 59,
     "metadata": {},
     "output_type": "execute_result"
    }
   ],
   "source": [
    "from sklearn.linear_model import LinearRegression\n",
    "\n",
    "model = LinearRegression()\n",
    "model.fit(X_train, y_train)"
   ]
  },
  {
   "cell_type": "code",
   "execution_count": 60,
   "id": "6ab4e018",
   "metadata": {},
   "outputs": [],
   "source": [
    "y_pred = model.predict(X_test)"
   ]
  },
  {
   "cell_type": "code",
   "execution_count": 64,
   "id": "89f0ca61",
   "metadata": {},
   "outputs": [
    {
     "name": "stdout",
     "output_type": "stream",
     "text": [
      "Mean Squared Error (MSE): 0.15668799213361528\n",
      "Mean Absolute Error (MAE): 0.18537647162700277\n",
      "R2 Score: 0.9069919428631416\n"
     ]
    }
   ],
   "source": [
    "from sklearn.metrics import r2_score\n",
    "from sklearn.metrics import mean_squared_error, mean_absolute_error\n",
    "\n",
    "mse = mean_squared_error(y_test, y_pred)\n",
    "mae = mean_absolute_error(y_test, y_pred)\n",
    "r2_score = r2_score(y_test, y_pred)\n",
    "\n",
    "print(\"Mean Squared Error (MSE):\", mse)\n",
    "print(\"Mean Absolute Error (MAE):\", mae)\n",
    "print(\"R2 Score:\", r2_score)"
   ]
  },
  {
   "cell_type": "code",
   "execution_count": null,
   "id": "e9868d44",
   "metadata": {},
   "outputs": [],
   "source": []
  }
 ],
 "metadata": {
  "kernelspec": {
   "display_name": "Python3",
   "language": "python",
   "name": "python3"
  },
  "language_info": {
   "codemirror_mode": {
    "name": "ipython",
    "version": 3
   },
   "file_extension": ".py",
   "mimetype": "text/x-python",
   "name": "python",
   "nbconvert_exporter": "python",
   "pygments_lexer": "ipython3",
   "version": "3.10.8"
  }
 },
 "nbformat": 4,
 "nbformat_minor": 5
}
